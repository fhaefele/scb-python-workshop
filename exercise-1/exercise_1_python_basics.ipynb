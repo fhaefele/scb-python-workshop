{
 "cells": [
  {
   "cell_type": "markdown",
   "metadata": {
    "id": "QxirkvwCuhxm"
   },
   "source": [
    "# Getting to know some basic Python\n",
    "\n",
    "This Jupyter Notebook is designed for use in the SCB Python workshop in Svanninge."
   ]
  },
  {
   "cell_type": "markdown",
   "metadata": {
    "id": "CKAHMNWHgo8R"
   },
   "source": [
    "### Jupyter Notebook Survival Guide\n",
    "\n",
    "Before diving into Python, here's a quick reference for the most commonly used keyboard shortcuts.\n",
    "\n",
    "* **Run a cell**: `Ctrl+Enter`\n",
    "* **Run and advance to the next cell**: `Shift+Enter`\n",
    "* **Switch to Command Mode**: Press `Esc` (to use the shortcuts in table below)\n",
    "* **Switch to Edit Mode**: Press `Enter` (to write code or markdown inside cells)\n",
    "\n",
    "\n",
    "\n",
    "Action | Jupyter | Colab\n",
    ":---|:--- | :---\n",
    "Add a cell above | A | Ctrl + M + A\n",
    "Add a cell below | B | Ctrl + M + B\n",
    "See all keyboard shortcuts | H | Ctrl + M + H\n",
    "Change cell to code | Y | Ctrl + M + Y\n",
    "Change cell to markdown | M | Ctrl + M + M\n",
    "Interrupt the Kernel | II | Ctrl + M + I\n",
    "Delete a cell | DD | Ctrl + M + D\n",
    "Checkpoint notebook | Ctrl + S | Ctrl + M + S"
   ]
  },
  {
   "cell_type": "markdown",
   "metadata": {
    "id": "Ywp__AblvacD"
   },
   "source": [
    "## Basic Python syntax\n",
    "\n",
    "Now let's get comfortable with some basic Python syntax.\n",
    "\n",
    "This includes the sensitivity to white spaces (since Python relies on indentation  to define scope in the code), including their consistency, as well as variable assignments and comments. Execute the following cells to get an intuitive understanding of the Python syntax."
   ]
  },
  {
   "cell_type": "markdown",
   "metadata": {
    "id": "dMcap0WMv5PY"
   },
   "source": [
    "### White space sensitivity"
   ]
  },
  {
   "cell_type": "code",
   "execution_count": null,
   "metadata": {
    "id": "Hf906uyqui55"
   },
   "outputs": [],
   "source": [
    "if 5 > 2:\n",
    " print(\"Five is greater than two!\")\n",
    "\n",
    "if 5 > 2:\n",
    " print(\"Five is greater than two!\")"
   ]
  },
  {
   "cell_type": "code",
   "execution_count": null,
   "metadata": {
    "colab": {
     "base_uri": "https://localhost:8080/",
     "height": 106
    },
    "id": "oBMZrUA2v1nz",
    "outputId": "bd834782-4b51-48e3-896b-c430838463f0"
   },
   "outputs": [],
   "source": [
    "if 5 > 2:\n",
    " print(\"Five is greater than two!\")\n",
    "\n",
    "if 5 > 2:\n",
    "    \tprint(\"Five is greater than two!\")\n",
    "\n",
    "if 5 < 2:\n",
    " print('abc')\n",
    " else:\n",
    "    print('wow')"
   ]
  },
  {
   "cell_type": "markdown",
   "metadata": {
    "id": "imFdhROnv8ZM"
   },
   "source": [
    "### Variable assignment of different types\n",
    "\n",
    "Create variables with the following names and types, using values in the last column:\n",
    "\n",
    "name | type | value\n",
    "---|--- | ---\n",
    "x | string | 5\n",
    "y | string | Hello, world!\n",
    "z | float | 5\n",
    "abc | int | 19.5\n",
    "this_is_a_variable | complex | 1+5i\n",
    "z | float | z + 5\n",
    "z2 | float | z + abc\n",
    "\n",
    "Make sure to use comments to explain your code. \n",
    "\n",
    "**Keyboard Shortcuts for Commenting Code**  \n",
    "- **Jupyter Notebooks**: `Ctrl+/` (also within Spyder)\n",
    "- **Spyder Editor**: `Ctrl+1` (`Ctrl+2` inserts a cell divider `# %%`)  \n",
    "- **Most Code Editors**: `Ctrl+/`\n",
    "\n",
    "Shortcuts can be customized in settings."
   ]
  },
  {
   "cell_type": "code",
   "execution_count": null,
   "metadata": {
    "id": "d3Ca1AVE2ShA"
   },
   "outputs": [],
   "source": []
  },
  {
   "cell_type": "markdown",
   "metadata": {
    "id": "bDLHSF8JyoYR"
   },
   "source": [
    "## Printing and f-strings\n",
    "\n",
    "We’ll use the variables we previously generated to practice printing output to the terminal. Since we’re working in a Jupyter notebook, we don’t always need to use `print()` to display values - but for learning purposes, we’ll explicitly use it.\n",
    "\n",
    "To see which variables exist in your current workspace, use the `dir()` [function](https://docs.python.org/3/tutorial/modules.html#the-dir-function). This will list all defined variables, functions, and imported packages.\n",
    "* Print the workspace using `dir()` and identify the variables we generated earlier."
   ]
  },
  {
   "cell_type": "code",
   "execution_count": null,
   "metadata": {
    "colab": {
     "base_uri": "https://localhost:8080/"
    },
    "id": "phtuI1tf1vUH",
    "outputId": "3bf68759-8aad-49a8-a054-74f1d84d1969"
   },
   "outputs": [],
   "source": []
  },
  {
   "cell_type": "markdown",
   "metadata": {},
   "source": [
    "Now, print the values of all previously generated variables using the `print()` function.\n",
    "* Use `print()` to display the variables from the table above. If you want to explore different options for formatting the output, call `help(print)` to check available arguments."
   ]
  },
  {
   "cell_type": "code",
   "execution_count": null,
   "metadata": {
    "colab": {
     "base_uri": "https://localhost:8080/"
    },
    "id": "jtRYGSdy4JAp",
    "outputId": "ab7b822b-bbf1-4a3d-d2ea-291362992b75"
   },
   "outputs": [],
   "source": [
    "help(print)"
   ]
  },
  {
   "cell_type": "code",
   "execution_count": null,
   "metadata": {
    "colab": {
     "base_uri": "https://localhost:8080/"
    },
    "id": "aFUYaZU_4L6n",
    "outputId": "3201ede1-9375-44eb-b50e-dbdcdc5976b7"
   },
   "outputs": [],
   "source": []
  },
  {
   "cell_type": "markdown",
   "metadata": {
    "id": "jA7Cbtns26-p"
   },
   "source": [
    "Now, let’s use **f-strings** to create and format new strings using the existing variables. f-strings provide a clean and readable way to insert variables into strings. \n",
    "You can find more (and more elaborate) string formatting examples [here:](https://www.w3schools.com/python/python_string_formatting.asp)\n",
    "\n",
    "1.   Create a new string that lists the values of `x`, `y` and `z`.\n",
    "2.   Format `z` by padding it with five leading zeros.\n",
    "3.   Format the integer `abc` to display three decimal places.\n",
    "\n",
    "***Hint:*** Float formatting follows {value:width.precision *f*}\n"
   ]
  },
  {
   "cell_type": "code",
   "execution_count": null,
   "metadata": {
    "colab": {
     "base_uri": "https://localhost:8080/"
    },
    "id": "qWxEl5m24mzL",
    "outputId": "33b071a6-e13a-41bd-84e4-18c4d8270eb7"
   },
   "outputs": [],
   "source": []
  },
  {
   "cell_type": "markdown",
   "metadata": {
    "id": "e51JRTcYuzje"
   },
   "source": [
    "## Data structures\n",
    "\n",
    "Next, we will cover data structures and different ways to interact with them (e.g., using indexing, slicing, operators, and their built-in methods). If you want more practice, visit [this page.](https://www.geeksforgeeks.org/python-data-structures-and-algorithms/)\n",
    "\n"
   ]
  },
  {
   "cell_type": "markdown",
   "metadata": {
    "id": "lM9ZlmOONrfH"
   },
   "source": [
    "### Lists\n",
    "A list is a built-in dynamic array that can store elements of different data types. It is an ordered, mutable collection of items, meaning elements are stored in the same order as they were inserted into the list.\n",
    "\n",
    "*   Create a list called `my_list` containing the values: `10, 20, \"GfG\", 40, True`"
   ]
  },
  {
   "cell_type": "code",
   "execution_count": null,
   "metadata": {
    "id": "BKm8Xpnau5Th"
   },
   "outputs": [],
   "source": []
  },
  {
   "cell_type": "markdown",
   "metadata": {
    "id": "u8YjhpGLu7LJ"
   },
   "source": [
    "##### Checking List Length\n",
    "Oftentimes, we want to know how many items a list object contains. We can use the `len()` function on the list object `my_list` to find that out.\n",
    "\n",
    "*   How many items does the list contain?\n",
    "*   Print the first and the last item in `my_list`."
   ]
  },
  {
   "cell_type": "code",
   "execution_count": null,
   "metadata": {
    "colab": {
     "base_uri": "https://localhost:8080/"
    },
    "id": "1vqpSaXbvIaq",
    "outputId": "edabbb4d-d661-4710-cb46-33b961ec2de1"
   },
   "outputs": [],
   "source": []
  },
  {
   "cell_type": "markdown",
   "metadata": {
    "id": "vcaOI-acvXpy"
   },
   "source": [
    "##### Modifying Lists\n",
    "We can replace items in lists by using indexing or slicing if we want to select multiple parts/elements from the list.\n",
    "\n",
    "*   Change the 2nd element in the list (`20`) by multiplying it with `3.7`.\n",
    "*   Create a new variable `my_list_rev` containing the reversed order of the list elements.\n",
    "*   Create a new variable `my_numbers` selecting only the numbers in `my_list`\n",
    "\n",
    "This step is a bit tricky, as you need to grab two sections of the list. You can use slicing to grab the first part and then append the last element. There are two options: you can either use the `+` operator to concatenate two lists (*for this to work both addends must be of type list*), or you can use the built-in `.append()` method. The `.append()` method works **in place**, meaning it modifies the list directly.\n",
    "\n",
    " * Run `my_list.append(5555)` four times, then print `my_list`."
   ]
  },
  {
   "cell_type": "code",
   "execution_count": null,
   "metadata": {
    "colab": {
     "base_uri": "https://localhost:8080/"
    },
    "id": "Qgq4EfJ0vU_A",
    "outputId": "8e5dfd3c-f373-4c15-f6b7-b5831b530c12"
   },
   "outputs": [],
   "source": []
  },
  {
   "cell_type": "markdown",
   "metadata": {},
   "source": [
    "You can also append more than one element by providing another list as an input argument to `.append()`, for example: `my_list.append(['zz', 1, 2, 3, False])`. This will, however, create a nested list as `.append()` adds the entire list as a single element. If your goal is to *merge* two lists, you can use `.extend()` (which unpacks the elements), the `+` operator, or *unpack* both lists using the `*` operator (see the section on `*args` and `**kwargs` in Functions slides) inside `[]`, i.e. `[*first_list, *second_list]`.\n",
    "* Create two copies of `my_list`, called `my_list_copied` and `my_list_copied2`, using the `.copy()` method. Then use `.append(my_list_rev)` on `my_list` and `.extend(my_list_rev)` on `my_list_copied`. Can you predict the difference between `my_list` and `my_list_copied`? Print `my_list`, `my_list_copied`, and compare the results to your predictions.\n",
    "* Merge `my_list_copied2` with `my_list_rev` using `*` and compare the result to the earlier outputs.\n",
    "* Try `print(*my_list_copied)` to explore the `*` operator further.\n"
   ]
  },
  {
   "cell_type": "code",
   "execution_count": null,
   "metadata": {},
   "outputs": [],
   "source": []
  },
  {
   "cell_type": "markdown",
   "metadata": {},
   "source": [
    "##### Unpacking Lists\n",
    "Python allows you to **unpack** values from a list (or other iterables) directly into multiple variables using the following syntax: `x,y = a_list_with_two_items`. This means you can assign individual elements of a list to separate variables in a single line.\n",
    "* Explore  ***iterable unpacking*** by creating a list containing three numbers, and unpacking its elements into three variables: `a`, `b` and `c`. Print each variable to verify the values.\n",
    "\n",
    "Python allows ***extended iterable unpacking*** (also known as ***iterable unpacking with starred expressions***) using the `*` operator, which captures multiple elements in a single variable.\n",
    "* Explore extended iterable unpacking by extracting parts of a list using the *iterable unpacking* syntax and the `*` operator. In a single line of code, use extended iterable unpacking to:\n",
    "  1. Assign the first element of `my_list_rev` to the variable `a`.\n",
    "  2. Assign the last element to the variable `c`.\n",
    "  3. Capture all middle elements in the variable `b`.\n",
    "  After unpacking, print `a`, `b`, and `c` to verify the results.\n",
    "***Hint:*** Use the `*` operator in the assignment statement to capture all middle elements in `b`."
   ]
  },
  {
   "cell_type": "code",
   "execution_count": null,
   "metadata": {},
   "outputs": [],
   "source": []
  },
  {
   "cell_type": "markdown",
   "metadata": {
    "id": "uYZ-wxtGvhox"
   },
   "source": [
    "##### List Methods\n",
    "Python has many [built-in methods for lists](https://docs.python.org/3/tutorial/datastructures.html#more-on-lists). You can see these by typing `my_list.` and hitting `Tab`. You can call the `help()` function on them to learn more about their syntax.\n",
    "Some of the key list methods are: : `append`, `extend`, `insert`, `remove`, `pop`, `clear`, `index`, `count`, `sort`, `reverse`, `copy`. \n",
    "\n",
    "*  Look up how to use the `.insert()` method (best using the official docs linked above).\n",
    "*  Insert the value `False` into `my_list_rev` after the value `74.0`. After inserting, the list should look like this: `[True, 40, 'GfG', 74.0, False, 10]`.\n"
   ]
  },
  {
   "cell_type": "code",
   "execution_count": null,
   "metadata": {
    "colab": {
     "base_uri": "https://localhost:8080/"
    },
    "id": "f-EPsH1m6DkC",
    "outputId": "33f39bfc-387d-4b95-9973-642f4cdfcfad"
   },
   "outputs": [],
   "source": []
  },
  {
   "cell_type": "markdown",
   "metadata": {
    "id": "Zl1GpH3_wNKT"
   },
   "source": [
    "### Tuples\n",
    "\n",
    "Tuples are immutable, ordered collections that usually contain a heterogeneous sequence of elements. Since they cannot be modified, tuples are often used to pass objects around in programs while ensuring data integrity.\n",
    "\n",
    "A special feature of tuples is the construction of tuples containing 0 or 1 item(s). Here's how:\n",
    "\n",
    ">An empty tuple is constructed with an empty pair of parentheses: `()`.\n",
    "\n",
    ">A tuple with one item is constructed by adding a comma after the value (it is not enough to just use parentheses around a single value): e.g. `(1,)`.\n",
    "\n",
    "* Create an *empty tuple* called `t1` and a *tuple with one item* called `t2` containing a single element of your choice.\n",
    "* Create a tuple `t3` containing the values `1,2,3,4`, and `t4` containing the values `0,1,2,3,4,5,6`\n",
    "\n",
    "BTW you can also make tuples without brackets. For example `t5 = 7,8,9` is also a tuple.\n",
    "\n",
    "* Explore the available tuple built-in methods (e.g. by typing `t1.` and hitting `Tab`). Compare the list of methods for tuples with those available for lists. Can you guess why the methods differ?\n"
   ]
  },
  {
   "cell_type": "code",
   "execution_count": null,
   "metadata": {
    "colab": {
     "base_uri": "https://localhost:8080/"
    },
    "id": "q0JwUzFhyuQu",
    "outputId": "ccd0fd28-5262-4149-e9b6-a85d85d6c95b"
   },
   "outputs": [],
   "source": []
  },
  {
   "cell_type": "markdown",
   "metadata": {
    "id": "rEUi3iDBzHtp"
   },
   "source": [
    "Like for lists, we can use ***iterable upacking*** and ***extended iterable unpacking*** to assign values from a tuple to individual variables. Recall the syntax: `x, y, z = t`. In this case `t` contains 3 values that are assigned to the variables `x`,`y`,`z`. \n",
    "You can also use the `*` operator to capture parts of the tuple into a variable. \n",
    "* Unpack the tuple `t3` into variables `t31`, `t32`, ...\n",
    "* Now, unpack the tuple `t4` into a list called `t4_unpacked`. This means you'll convert the tuple’s elements into a list.\n",
    "\n",
    "Remeber that you can also use indexing (e.g.`t32 = t3[1]`) and that if you're not interested in a particular value while unpacking you can use the `_` variable as a placeholder."
   ]
  },
  {
   "cell_type": "code",
   "execution_count": null,
   "metadata": {
    "colab": {
     "base_uri": "https://localhost:8080/"
    },
    "id": "SPho1OcDy9Yq",
    "outputId": "8de5f281-1d46-4d72-cf0a-1ad3dc132da6"
   },
   "outputs": [],
   "source": []
  },
  {
   "cell_type": "markdown",
   "metadata": {
    "id": "KN7xo7pp3qJZ"
   },
   "source": [
    "### Dictionaries\n",
    "\n",
    "Dictionaries are sometimes found in other languages as “associative memories” or “associative arrays” (in Matlab they would correspond to structures). Think *mappings* rather than *sequences*, where objects are stored by their relative position - see lists or tuples. Therefore, unlike lists or tuples (which use positional indexing), dictionaries allow fast lookups by `key`.\n",
    "\n",
    "It is best to think of a dictionary as a set of `key:value` pairs. Each key in a dictionary must be unique (within one dictionary) and immutable (strings, numbers, or tuples). Values can be of any data type, including lists and other dictionaries.\n",
    "\n",
    "A dictionary is created using curly braces `{}` or the `dict()` constructor. Placing a comma-separated list of key:value pairs within the braces adds initial `key:value` pairs to the dictionary; this is also the way dictionaries are written on output.\n",
    "\n",
    "The main operations on a dictionary are storing a value with some key and extracting the value given the key. It is also possible to delete a `key:value` pair with `del`. If you store using a key that is already in use, the old value associated with that key is forgotten. Attempting to extract a value using a non-existent key will result in an error.\n",
    "\n",
    "Performing `list(d)` on a dictionary returns a list of all the keys used in the dictionary, in insertion order (if you want it sorted, just use `sorted(d)` instead). To check whether a given key is in the dictionary, you can use the `in` membership operator.\n"
   ]
  },
  {
   "cell_type": "markdown",
   "metadata": {
    "id": "fwTruEpytPsI"
   },
   "source": [
    "#### Creating, accessing and modifying dictionaries\n",
    "* Create a dictionary `my_dict` with the following `key:value` pairs\n",
    "  >* `key1`: `123`\n",
    "  >* `key2`: `abc`\n",
    "  >* `key3`: `[1,2,3]`\n",
    "  >* `key4`: `True`\n",
    "  >* `key5`: `{'insideKey':100}`."
   ]
  },
  {
   "cell_type": "code",
   "execution_count": null,
   "metadata": {
    "id": "urTFJ_5_46jr"
   },
   "outputs": [],
   "source": []
  },
  {
   "cell_type": "markdown",
   "metadata": {
    "id": "cv3UKARqoDq_"
   },
   "source": [
    "Like with lists and tuples, dictionaries have a number of methods or built-in functions that allow you to perform operations on them. You can quickly preview them by typing `my_dict.` and hitting `Tab`.\n",
    "* Try using `my_dict.keys()`,`my_dict.values()` and `my_dict.items()`. What does each method return?"
   ]
  },
  {
   "cell_type": "code",
   "execution_count": null,
   "metadata": {
    "id": "BgfqNV3noMxX"
   },
   "outputs": [],
   "source": []
  },
  {
   "cell_type": "code",
   "execution_count": null,
   "metadata": {
    "id": "f53UBc-voOD8"
   },
   "outputs": [],
   "source": []
  },
  {
   "cell_type": "code",
   "execution_count": null,
   "metadata": {
    "id": "IlObiBGwoOdM"
   },
   "outputs": [],
   "source": []
  },
  {
   "cell_type": "markdown",
   "metadata": {
    "id": "_4mFtwZ547D7"
   },
   "source": [
    "You can call items within the dictionary by indexing with the keys, e.g. `my_dict['key1']`. In Pyhon methods and indices on a single object can be stacked, e.g. to access nested structures, indices are stacked like `d[][]`.\n",
    "* Get the third value from the list stored in `key3.`"
   ]
  },
  {
   "cell_type": "code",
   "execution_count": null,
   "metadata": {
    "id": "au-DEkaJofVi"
   },
   "outputs": [],
   "source": []
  },
  {
   "cell_type": "markdown",
   "metadata": {
    "id": "X2EAN6kOojmO"
   },
   "source": [
    "* Convert the string in `key2` to *uppercase* using string object's built-in `.upper()` function, then extract the second letter (this can be done in one line!)."
   ]
  },
  {
   "cell_type": "code",
   "execution_count": null,
   "metadata": {
    "id": "2Ekqu2G_omEQ"
   },
   "outputs": [],
   "source": []
  },
  {
   "cell_type": "markdown",
   "metadata": {
    "id": "Rw7jdLvQovU1"
   },
   "source": [
    "* Modify dictionary values: subtract 40 from `insideKey` in `key5`, updating the value in place. *Note:* you can utilize the `-=` operator."
   ]
  },
  {
   "cell_type": "code",
   "execution_count": null,
   "metadata": {
    "id": "O09Pkg9kozTF"
   },
   "outputs": [],
   "source": []
  },
  {
   "cell_type": "markdown",
   "metadata": {
    "id": "1p8BLznYo2PA"
   },
   "source": [
    "Dictionary `key:value` pairs can also be created by assignment using `key` indexing.\n",
    "* Create an empty dictionary called `bat_weights_g` then assign 7 to `dau` 8 to `nat` and 5 to `pyg`."
   ]
  },
  {
   "cell_type": "code",
   "execution_count": null,
   "metadata": {
    "id": "jBbXh_1fpAaF"
   },
   "outputs": [],
   "source": []
  },
  {
   "cell_type": "code",
   "execution_count": null,
   "metadata": {
    "id": "tRe6cxVTpCQu"
   },
   "outputs": [],
   "source": []
  },
  {
   "cell_type": "markdown",
   "metadata": {
    "id": "1gIwpqqYpHCs"
   },
   "source": [
    "The same dictionary can be created using the `dict()` function applied to a sequence of key-value pairs.\n",
    "* Create the same dictionary as above using `dict()` and a list of three tuples - each containing the species key and weight value. "
   ]
  },
  {
   "cell_type": "code",
   "execution_count": null,
   "metadata": {
    "id": "oxW6DNIJpIYD"
   },
   "outputs": [],
   "source": []
  },
  {
   "cell_type": "markdown",
   "metadata": {
    "id": "DORcBpympUC0"
   },
   "source": [
    "Finally, when dictionary keys are simple strings (like in our case here), you can use them as *keyword arguments* to `dict()`. \n",
    "* Try doing just that. *Note:* If you need a refresher on keyword arguments, check out `help(dict)` and/or the Functions slides."
   ]
  },
  {
   "cell_type": "code",
   "execution_count": null,
   "metadata": {},
   "outputs": [],
   "source": [
    "help(dict)"
   ]
  },
  {
   "cell_type": "code",
   "execution_count": null,
   "metadata": {},
   "outputs": [],
   "source": []
  },
  {
   "cell_type": "markdown",
   "metadata": {
    "id": "PtjjXpmZtm2o"
   },
   "source": [
    "#### Deleting items from dictionaries\n",
    "Dictionary items can be removed using the `.pop()` dictionary method (same syntax as for lists - see ***while-loops*** slides - just with `key` as index), or the `del` statement. \n",
    "* Remove the `pyg` key-value pair from `bat_weights_g` using `.pop()`, then add it back and remove it using the following syntax: `del dict['key']`."
   ]
  },
  {
   "cell_type": "code",
   "execution_count": null,
   "metadata": {
    "id": "yyzs-EXQut_1"
   },
   "outputs": [],
   "source": []
  },
  {
   "cell_type": "code",
   "execution_count": null,
   "metadata": {
    "id": "3Nj6NEMguvtB"
   },
   "outputs": [],
   "source": []
  },
  {
   "cell_type": "code",
   "execution_count": null,
   "metadata": {
    "id": "1d9yJrMiuzCC"
   },
   "outputs": [],
   "source": []
  },
  {
   "cell_type": "markdown",
   "metadata": {
    "id": "OIwlrox-tt8f"
   },
   "source": [
    "#### Merging dictionaries\n",
    "Unlike lists, dictionaries cannot be concatenated with `+` operator, but they can be merged using:\n",
    ">* dictionary unpacking with the `**` operator (i.e., `**dict`) inside `{}` (similarly to the `*list` syntax)\n",
    ">* the | operator (Python 3.9+): `merged_dict = first_dict | second_dict`\n",
    "\n",
    "* Merge `my_dict` and `bat_weights_g` into a single dictionary using dictionary unpacking and the `|`. Compare the outputs. Do they behave the same?\n"
   ]
  },
  {
   "cell_type": "code",
   "execution_count": null,
   "metadata": {
    "id": "lJHkdvJdu37p"
   },
   "outputs": [],
   "source": []
  },
  {
   "cell_type": "code",
   "execution_count": null,
   "metadata": {},
   "outputs": [],
   "source": []
  },
  {
   "cell_type": "markdown",
   "metadata": {
    "id": "FkENObBs06MJ"
   },
   "source": [
    "## Python statements"
   ]
  },
  {
   "cell_type": "markdown",
   "metadata": {
    "id": "goniqH5O25hG"
   },
   "source": [
    "### Conditional statements"
   ]
  },
  {
   "cell_type": "markdown",
   "metadata": {
    "id": "uDS1waAu55lV"
   },
   "source": [
    "#### Logical and comparison operators in Python  \n",
    "\n",
    "Python supports standard logical conditions from mathematics - refer to the ***Comparison and logical operators*** slide for details. These conditions are most commonly used in if statements and loops but can appear in other contexts as well.\n",
    "\n",
    ">**Comparison Operators**: Operators like `==`, `<`, `>`, `<=`, and `>=` are used to compare values.  \n",
    "  **Membership Operators**: `in` and `not in` check whether a value exists within a container (e.g., a list or string).  \n",
    "  **Identity Operators**: `is` and `is not` determine whether two variables refer to the same object in memory.  \n",
    "\n",
    "All comparison operators have the same precedence, which is lower than that of numerical operators.  \n",
    "\n",
    "#### Chaining and combining comparisons  \n",
    ">Comparisons can be ***chained***:  \n",
    "\n",
    "    `a < b == c`  # Checks if `a` is less than `b` and if `b` equals `c`\n",
    "\n",
    ">Boolean operators `and`, `or`, and `not` can be used to ***combine comparisons***; `not` has the highest priority, followed by `and`, and then `or`. For example:\n",
    "\n",
    "    `A and not B or C`  # Equivalent to: `(A and (not B)) or C`\n",
    "\n",
    ">*Note:* As always, parentheses should be used to ensure clarity in complex conditions.\n",
    "\n",
    "#### Short-circuit evaluation\n",
    "Python's Boolean operators `and` and `or` use short-circuit evaluation, meaning:\n",
    "\n",
    ">* For `and`, evaluation stops if any condition is `False` (since the whole expression must be `False`).\n",
    ">* For `or`, evaluation stops if any condition is `True` (since the whole expression must be `True`).\n",
    "\n",
    "    `A and B and C`  # If `A` and `C` are `True` but `B` is `False`, `C` is never evaluated\n",
    "\n",
    "When used in expressions beyond Boolean logic, short-circuit operators return the ***last evaluated argument*** instead of strictly `True` or `False`.\n",
    "\n",
    "It is possible to assign the result of a comparison or other Boolean expression to a variable. For example:\n",
    "\n",
    "    string1, string2, string3 = '', 'bat', 'frog'\n",
    "    non_null = string1 or string2 or string3\n",
    "    print(non_null)"
   ]
  },
  {
   "cell_type": "code",
   "execution_count": null,
   "metadata": {
    "colab": {
     "base_uri": "https://localhost:8080/"
    },
    "id": "609I7HDf5z5n",
    "outputId": "0dd0748c-8263-472d-da3b-86b234d84f16"
   },
   "outputs": [],
   "source": []
  },
  {
   "cell_type": "markdown",
   "metadata": {
    "id": "sMHVEvNAJ9_B"
   },
   "source": [
    "#### `if`, `elif`, `else` syntax\n",
    "\n",
    "Conditional statements allow your program to make decisions based on different conditions. In Python, `if`, `elif`, and `else` are used to control the flow of execution based on specified conditions (refer to ***if statements*** slide for more details).\n",
    "\n",
    "However, `if` statements cannot be empty. If you need to define an `if` statement but don't yet have any code to execute inside it, you can use the `pass` statement to avoid an error.  \n",
    "\n",
    "\n",
    "Let's see a quick example.\n",
    "\n",
    "* Define a variable study_animal and assign it a Boolean value (`True` or `False`). Then write an `if` statement that checks if `study_animal` is `True`. The statement's body should just be a *placeholder* for future code.\n"
   ]
  },
  {
   "cell_type": "code",
   "execution_count": null,
   "metadata": {
    "id": "QauryXJQV8Ls"
   },
   "outputs": [],
   "source": []
  },
  {
   "cell_type": "markdown",
   "metadata": {
    "id": "mDIo_y0UWbJl"
   },
   "source": [
    "* Now modify your `if` statement to print one message if `study_animal` is `True`, and a different message if `study_animal` is `False`. Test with your condition being `True` and `False`."
   ]
  },
  {
   "cell_type": "code",
   "execution_count": null,
   "metadata": {
    "colab": {
     "base_uri": "https://localhost:8080/"
    },
    "id": "pMIHSN3ZMvnG",
    "outputId": "6188d767-0679-4e3b-b21e-f61511d38d6a"
   },
   "outputs": [],
   "source": []
  },
  {
   "cell_type": "markdown",
   "metadata": {
    "id": "v7ahCp_UNfKw"
   },
   "source": [
    "Let's incorporate `elif` and a comparison syntax. You can put in as many `elif` statements as you want before you close off with an `else`. As soon as one conditional statement is met, the interpreter skips the rest of the statements.\n",
    "\n",
    "* Define a variable called `study_animal` and assign it the name of an animal as a string (choose from 'bat', 'frog', 'finch', or 'porpoise'). Then use an `if-elif-else` statement to check the value of `study_animal` and print a corresponding welcome message based on the animal:  \n",
    "   - `'bat'` → `\"Welcome to the wind tunnel!\"`  \n",
    "   - `'frog'` → `\"Welcome to a tropical island!\"`  \n",
    "   - `'finch'` → `\"Welcome to SDU's basement!\"`  \n",
    "   - `'porpoise'` → `\"Welcome to Kerteminde!\"`  \n",
    "   - If the animal is not in the list, print `\"Where do you work?\"`"
   ]
  },
  {
   "cell_type": "code",
   "execution_count": null,
   "metadata": {
    "colab": {
     "base_uri": "https://localhost:8080/"
    },
    "id": "qy3F8PELNiOY",
    "outputId": "506a399e-4c59-4645-8fd9-f54fe2fb84a3"
   },
   "outputs": [],
   "source": []
  },
  {
   "cell_type": "markdown",
   "metadata": {},
   "source": [
    "* If you want an ***additional challenge***, turn the code into a `match` statement."
   ]
  },
  {
   "cell_type": "markdown",
   "metadata": {
    "id": "pofQChch1CXx"
   },
   "source": [
    "### `for` loops\n",
    "\n",
    "\n",
    "A `for` loop is used for iterating over a sequence (i.e. a list, a tuple, a dictionary, a set, or a string), so that we can execute a set of statements, once for each item in the sequence.\n",
    "\n",
    "* Write a loop that iterates through the letters in the word \"Myotis\" and prints them out."
   ]
  },
  {
   "cell_type": "code",
   "execution_count": null,
   "metadata": {
    "id": "Zrif9keX2lW3"
   },
   "outputs": [],
   "source": []
  },
  {
   "cell_type": "markdown",
   "metadata": {
    "id": "SgOjVbuk29A5"
   },
   "source": [
    "*Side note:* Because string objects in Python are iterable, you can unpack them using the `*` operator. Try assigning `[*\"Python\"]` to a variable and printing it out."
   ]
  },
  {
   "cell_type": "code",
   "execution_count": null,
   "metadata": {
    "id": "6-Pu0rDh3pjn"
   },
   "outputs": [],
   "source": []
  },
  {
   "cell_type": "markdown",
   "metadata": {
    "id": "M-QuJzaXPxlh"
   },
   "source": [
    "To loop over an iterable in reverse, feed it to the `reversed()` function (it returns an iterator that goes through the elements in reverse order).\n",
    "* Try it out with your Myotis loop."
   ]
  },
  {
   "cell_type": "code",
   "execution_count": null,
   "metadata": {
    "id": "U-iYsrUAQD4Q"
   },
   "outputs": [],
   "source": []
  },
  {
   "cell_type": "markdown",
   "metadata": {},
   "source": [
    "* Now, achieve the same result using slicing instead."
   ]
  },
  {
   "cell_type": "code",
   "execution_count": null,
   "metadata": {},
   "outputs": [],
   "source": []
  },
  {
   "cell_type": "markdown",
   "metadata": {
    "id": "B8O3xo0BJMk2"
   },
   "source": [
    "If you need a loop to run a specific number of times rather than iterating over an iterable object, use the [`range()` function](https://python-reference.readthedocs.io/en/latest/docs/functions/range.html) to generate a sequence. `range()` can take a single *stop* argument or be used with *(start, stop)* and *(start, stop, step)*.\n",
    "* Write a loop that prints every 5th number from 20 and 100."
   ]
  },
  {
   "cell_type": "code",
   "execution_count": null,
   "metadata": {
    "id": "J922PGhlLK-d"
   },
   "outputs": [],
   "source": []
  },
  {
   "cell_type": "markdown",
   "metadata": {
    "id": "yxHsioeJOS8R"
   },
   "source": [
    "*Side note:* You can use the `range()` function with `list()` to quickly generate a list of numbers by casting the range to a list.\n",
    "* Try creating a list with numbers from 0 to 10."
   ]
  },
  {
   "cell_type": "code",
   "execution_count": null,
   "metadata": {
    "colab": {
     "base_uri": "https://localhost:8080/"
    },
    "id": "-gjSe47lOtm8",
    "outputId": "86900225-ffc5-4d31-d1ae-cfb16506b12d"
   },
   "outputs": [],
   "source": []
  },
  {
   "cell_type": "markdown",
   "metadata": {
    "id": "0DZAcT89493_"
   },
   "source": [
    "You can exit a loop early using the `break` statement (see the `while` loop slide for syntax reminder).\n",
    "* Write a `for` loop that iterates through a `bats` list containing five elements: 'Myotis', 'Pipistrellus', 'Glossophaga', 'Noctilus', and 'Eptesicus'. The loop should print each element but stop when it encounters 'Glossophaga'. Try exiting after and before 'Glossophaga' is printed."
   ]
  },
  {
   "cell_type": "code",
   "execution_count": null,
   "metadata": {
    "colab": {
     "base_uri": "https://localhost:8080/"
    },
    "id": "9agNA-QB7tKr",
    "outputId": "d6f46058-b4a0-4305-f762-41ff14a92f28"
   },
   "outputs": [],
   "source": []
  },
  {
   "cell_type": "code",
   "execution_count": null,
   "metadata": {
    "colab": {
     "base_uri": "https://localhost:8080/"
    },
    "id": "IriaARv18pC9",
    "outputId": "a8e4ee6a-9d59-4442-ec96-a292e24bf625"
   },
   "outputs": [],
   "source": []
  },
  {
   "cell_type": "markdown",
   "metadata": {
    "id": "QTzAuozO8O7Q"
   },
   "source": [
    "With the `continue` statement we can stop the current iteration of the loop, and continue with the next (see `while` loop slide for syntax example).\n",
    "* Write a `for` loop that iterates from the `bats` list and prints all its elements except 'Glossophaga'."
   ]
  },
  {
   "cell_type": "code",
   "execution_count": null,
   "metadata": {
    "colab": {
     "base_uri": "https://localhost:8080/"
    },
    "id": "_eHbtokK92mQ",
    "outputId": "133e65de-af32-488b-80db-ef96d88a1063"
   },
   "outputs": [],
   "source": []
  },
  {
   "cell_type": "markdown",
   "metadata": {
    "id": "HQWW6lBGawPB"
   },
   "source": [
    "To loop over a sequence in sorted order, pass it to the `sorted()` function (unlike the `.sort()` method, which modifies a list in place, `sorted()` returns a new sorted sequence while leaving the original unchanged).\n",
    "* Write a `for` loop that iterates over the `bats` list in alphabetical order."
   ]
  },
  {
   "cell_type": "code",
   "execution_count": null,
   "metadata": {
    "colab": {
     "base_uri": "https://localhost:8080/"
    },
    "id": "Dm_ASEV6b7DV",
    "outputId": "89109344-d615-47b7-b2d7-9838360dea29"
   },
   "outputs": [],
   "source": []
  },
  {
   "cell_type": "markdown",
   "metadata": {
    "id": "meSfoWUBfmpG"
   },
   "source": [
    "Sometimes, you may want to iterate over only the unique items in a string, list, or tuple. In these cases, the `set()` function can help, as it converts the input to a `set` (which only allows unique items - see the slide on data structures).\n",
    "* Create a list with the elements 'Plecotus', 'Myotis', 'Eptesicus', and 'Vespertilio', and concatenate it with `bats` to form a new list called `more_bats`. Then, write a loop that prints the unique genus names from that list."
   ]
  },
  {
   "cell_type": "code",
   "execution_count": null,
   "metadata": {
    "colab": {
     "base_uri": "https://localhost:8080/"
    },
    "id": "XfRawGTGj8kp",
    "outputId": "b42c492d-10bd-4a4f-9277-e7352950ef27"
   },
   "outputs": [],
   "source": []
  },
  {
   "cell_type": "markdown",
   "metadata": {},
   "source": [
    "*Side note:* We won’t cover more examples of `set` objects here, but you can read more about them [here](https://python-reference.readthedocs.io/en/latest/docs/sets/). Sets are commonly used for: \n",
    ">* Membership testing (i.e. checking if an element is in a set)\n",
    ">* Removing duplicates from a sequence\n",
    ">* Computing set operations for dataset comparison such as intersection, union, difference, and symmetric difference."
   ]
  },
  {
   "cell_type": "markdown",
   "metadata": {
    "id": "wyze04W6-TIc"
   },
   "source": [
    "`for` loops cannot be empty, but if you for some reason have a for loop with no content, put in the `pass` statement to avoid getting an error.\n",
    " * Try iterating over your `bats` list with a loop that does nothing."
   ]
  },
  {
   "cell_type": "code",
   "execution_count": null,
   "metadata": {
    "id": "SOTFJYlhDkoa"
   },
   "outputs": [],
   "source": []
  },
  {
   "cell_type": "markdown",
   "metadata": {
    "id": "EAKLW_0VHKQh"
   },
   "source": [
    "When looping through a sequence, you can retrieve both the position index and the corresponding value simultaneously using the `enumerate()` function. This function returns an iterator that produces index-value pairs, which can be unpacked in a loop - similar to *iterable unpacking*.\n",
    "* Write a loop that iterates through the `bats` list and prints each element along with its index."
   ]
  },
  {
   "cell_type": "code",
   "execution_count": null,
   "metadata": {
    "colab": {
     "base_uri": "https://localhost:8080/"
    },
    "id": "Oq3VuDnpHwWs",
    "outputId": "115b2d3a-fdd9-4fea-e7f9-4739b5381661"
   },
   "outputs": [],
   "source": []
  },
  {
   "cell_type": "markdown",
   "metadata": {
    "id": "HhAFahIIIbEm"
   },
   "source": [
    "When looping through a dictionary, you can retrieve both the `key` and its corresponding `value` using the `.items()` method. This method returns `key:value` pairs as an iterable object (see the Dictionaries section above), which can be unpacked in a loop using syntax similar to that of `enumerate()` in a loop.\n",
    "\n",
    "* Create a dictionary called `genus_species` with the following `key:value` pairs 'Myotis': 'daubentonii', 'Eptesicus': 'serotinus' and 'Pipistrellus': 'pygmaeus'. Then, use a `for` loop to print each full species name one by one. Recall that dictionary `keys` must be unique within a single dictionary. Try adding 'Myotis': 'nattereri' to `genus_species` and observe what happens."
   ]
  },
  {
   "cell_type": "code",
   "execution_count": null,
   "metadata": {
    "colab": {
     "base_uri": "https://localhost:8080/"
    },
    "id": "d2DoRgWEIcFy",
    "outputId": "17b40ff3-4d9d-44fe-81d8-d398751805d1"
   },
   "outputs": [],
   "source": []
  },
  {
   "cell_type": "code",
   "execution_count": null,
   "metadata": {
    "colab": {
     "base_uri": "https://localhost:8080/"
    },
    "id": "jdkS4Ii2Y3My",
    "outputId": "f34467e3-4078-4cab-82b4-aa62f5dcd27b"
   },
   "outputs": [],
   "source": []
  },
  {
   "cell_type": "markdown",
   "metadata": {
    "id": "IJKLamqYpG2_"
   },
   "source": [
    "To loop over two or more sequences at the same time, you can use the `zip()` function. This function returns a `zip` object, which is an iterator of `tuples` where the first item in each passed iterable is paired together, the second items are paired together, and so on. If the iterables have different lengths, `zip()` stops at the shortest one. Elements from each sequence can be extracted within the loop using syntax similar to `enumerate()` (see the `for` loops slide for an example).\n",
    "\n",
    "* Create two lists:\n",
    "  1. `questions`, containing the `strings` 'name', 'quest' and 'favorite color'\n",
    "  2. `answers`, containing the `strings` 'lancelot', 'the holy grail' and 'blue'\n",
    "\n",
    "  Then, use a `for` loop with `zip()` to iterate over both lists at the same time and print each question along with its corresponding answer in the format:\n",
    "\n",
    "    `What is your <question>? It is <answer>.`"
   ]
  },
  {
   "cell_type": "code",
   "execution_count": null,
   "metadata": {
    "id": "yu5temAr0dxV"
   },
   "outputs": [],
   "source": []
  },
  {
   "cell_type": "markdown",
   "metadata": {
    "id": "zToNzgkn8_Pz"
   },
   "source": [
    "### `while` loops\n",
    "\n",
    "A `while` loop allows us to execute a block of code as long as a condition remains `True`, rather than specifying a fixed number of iterations (as in `for` loops). This is called **indefinite iteration**.\n",
    "\n",
    "The controlling expression of a `while` loop typically involves one or more variables that are ***initialized prior to starting*** the loop and then ***modified somewhere in the loop body***. The controlling expression is tested first. If it’s `False` from the start, the loop body will never be executed.\n",
    "\n",
    "When evaluated in a Boolean context, a list is **truthy** if it contains elements and **falsy** if it is empty.\n",
    "* Create a list called `animal` with the elements: 'bat', 'frog', 'finch', and 'porpoise'. Write a `while` loop that removes and prints each element *from the end of the list* until it is empty. What happens to `animal` after the loop finishes? Try printing it after the loop ends!"
   ]
  },
  {
   "cell_type": "code",
   "execution_count": null,
   "metadata": {},
   "outputs": [],
   "source": []
  },
  {
   "cell_type": "markdown",
   "metadata": {
    "id": "Ha-_GoiC9m6J"
   },
   "source": [
    "##### `break` and `continue` in `while` loops\n",
    "Like you saw with `for` loops, Python provides two special keywords that modify loop execution (see slides for `while` loop examples):\n",
    ">* **`break`**  → **Exits the loop immediately** when encountered. Execution continues with the first statement after the loop\n",
    ">* **`continue`** → **Skips the current iteration** and jumps to the next cycle of the loop, without terminating it. Execution jumps to the top of the loop, and the controlling expression is re-evaluated to determine whether the loop will execute again or terminate.\n",
    "\n",
    "* Create a variable `n = 5`. Write a while loop that decreases `n` by `1` in each iteration. If `n` reaches `2`, exit the loop using `break`. Print `n` inside the loop to see its values before it stops. After the loop, print `\"Loop ended.\"` to confirm the loop has stopped.\n",
    "  ***Tip:*** you may find `-=` helpful here. "
   ]
  },
  {
   "cell_type": "code",
   "execution_count": null,
   "metadata": {},
   "outputs": [],
   "source": []
  },
  {
   "cell_type": "markdown",
   "metadata": {},
   "source": [
    "* Now, modify your loop to use `continue` instead of `break`. If `n` is `2`, skip printing it and continue with the next iteration."
   ]
  },
  {
   "cell_type": "code",
   "execution_count": null,
   "metadata": {},
   "outputs": [],
   "source": []
  },
  {
   "cell_type": "markdown",
   "metadata": {},
   "source": [
    "#### The `else` clause\n",
    "Python allows an optional `else` clause at the end of a `while` loop. This is a unique feature of Python, not found in most other programming languages. The syntax is as follows:\n",
    "\n",
    "```python\n",
    "while <condition>:\n",
    "    <loop statement(s)>\n",
    "else:\n",
    "    <additional_statement(s)>\n",
    "```   \n",
    "\n",
    "The `<additional_statement(s)>` specified in the else clause will be executed when the `while` loop terminates. About now, you may be thinking, “How is that useful?” You could accomplish the same thing by putting those statements immediately after the `while` loop, without the `else`:\n",
    "```python\n",
    "while <condition>:\n",
    "    <loop statement(s)>\n",
    "<additional_statement(s)>\n",
    "```  \n",
    "\n",
    "What’s the difference?\n",
    "\n",
    "In the latter case, **without the `else` clause**, `<additional_statement(s)>` will be executed after the `while` loop terminates, **no matter what**.\n",
    "When `<additional_statement(s)>` are placed **in an `else` clause**, they will be executed **only if the loop terminates “by exhaustion”** — that is, if the loop iterates until the controlling condition becomes `False`. If the loop is exited using `break`, the `else` block will not execute.\n",
    "* Modify your previous `while` loops to include an `else` clause and compare the results. What happens when you use `break` vs. `continue`?"
   ]
  },
  {
   "cell_type": "code",
   "execution_count": null,
   "metadata": {},
   "outputs": [],
   "source": []
  },
  {
   "cell_type": "code",
   "execution_count": null,
   "metadata": {},
   "outputs": [],
   "source": []
  },
  {
   "cell_type": "code",
   "execution_count": null,
   "metadata": {},
   "outputs": [],
   "source": []
  },
  {
   "cell_type": "markdown",
   "metadata": {},
   "source": [
    "##### Using `while` with lists & searching with `else`\n",
    "\n",
    "A common use case for `while` loops is searching for a specific item in a list. If the item is found, the loop exits early using `break`. Otherwise, an `else` block can confirm that the item was not found.\n",
    "\n",
    "* Create a list called `bats` containing `'Plecotus'`, `'Myotis'`, `'Eptesicus'`, and `'Vespertilio'` as well as a string variable `my_bat = 'Pipistrellus'`. Write a `while` loop that iterates through `bats` by index to check if `my_bat` is present. If `my_bat` is found, exit the loop using `break`. If the loop completes without finding `my_bat`, print `\"Pipistrellus not found in list.\"`. Explore what happens when you include `'Pipistrellus'` in `bats`."
   ]
  },
  {
   "cell_type": "code",
   "execution_count": null,
   "metadata": {},
   "outputs": [],
   "source": []
  },
  {
   "cell_type": "markdown",
   "metadata": {
    "id": "lYJDFIcREQUt"
   },
   "source": [
    "## Functions\n",
    "\n",
    "Now that you've mastered Python formatting, data structures, and statements, let's put that knowledge to good use by writing some functions!\n",
    ">*If you need a refresher on function syntax, refer to the **Functions** slides.*\n",
    "\n",
    "Let's start with a simple function that prints a string.\n",
    "\n",
    "* Write a function called `say_hello` that prints the string `'Hello, World!'`."
   ]
  },
  {
   "cell_type": "code",
   "execution_count": null,
   "metadata": {
    "id": "s87mHFU8E6Bo"
   },
   "outputs": [],
   "source": []
  },
  {
   "cell_type": "markdown",
   "metadata": {
    "id": "l0uYpdAFC8Z3"
   },
   "source": [
    "Now, execute (call) the function to verify that it works by running: `say_hello()`. The parentheses `()` at the end are required to call the function. Without them, Python will return the function object instead of executing it. Try it out!"
   ]
  },
  {
   "cell_type": "code",
   "execution_count": null,
   "metadata": {
    "colab": {
     "base_uri": "https://localhost:8080/"
    },
    "id": "13KkQsUjE9hT",
    "outputId": "78501600-8ba3-40b9-fd7b-e2af2490bf84"
   },
   "outputs": [],
   "source": []
  },
  {
   "cell_type": "markdown",
   "metadata": {
    "id": "6qIjq6EEFQF_"
   },
   "source": [
    "Let's overwrite that function with one that accepts input arguments.\n",
    "\n",
    "* Define a function called `say_hello` that takes in a *required* argument `name`, and prints `'Hello, Name'` to the terminal or output cell. Again, verify its functionality by calling it. Try calling the function with `'Name'` entered as a positional argument, and as a keyword argument (refer to the Functions slides, if needed).\n"
   ]
  },
  {
   "cell_type": "code",
   "execution_count": null,
   "metadata": {
    "colab": {
     "base_uri": "https://localhost:8080/"
    },
    "id": "xM0spb9XFaQ3",
    "outputId": "6f69b6c7-ea6a-4c0a-ec4d-f0122711e590"
   },
   "outputs": [],
   "source": []
  },
  {
   "cell_type": "markdown",
   "metadata": {
    "id": "y3f5dNd3vGIp"
   },
   "source": [
    "Note that running `say_hello()` will now throw an error."
   ]
  },
  {
   "cell_type": "code",
   "execution_count": null,
   "metadata": {
    "id": "CYOj1oMsvnjv"
   },
   "outputs": [],
   "source": []
  },
  {
   "cell_type": "markdown",
   "metadata": {
    "id": "Y0MXM_f6F2h8"
   },
   "source": [
    "* Modify your `say_hello` function, so that it takes an *optional* argument `name`. Set the default value of `name` to `'Felix'`. Try calling the function with `'Name'` (entered as a positional or a keyword argument) and with no inputs.\n"
   ]
  },
  {
   "cell_type": "code",
   "execution_count": null,
   "metadata": {
    "colab": {
     "base_uri": "https://localhost:8080/"
    },
    "id": "kb5M-WDEGwp1",
    "outputId": "5cf82932-436a-49bd-877e-13ac17b4ae0b"
   },
   "outputs": [],
   "source": []
  },
  {
   "cell_type": "markdown",
   "metadata": {
    "id": "lMrLnlumHBlO"
   },
   "source": [
    "So far, the functions you’ve written have printed outputs to the terminal/console but have not *returned* any values. Now, you'll create a few functions that explicitly return a result.\n",
    "* Write a function called `check_even` that takes in a single argument, and returns `True` if the passed-in value is even, `False` if it is not. Verify the function by evaluating whether 2 and 3 are even?\n",
    "\n",
    "  Should the argument be required or optional?"
   ]
  },
  {
   "cell_type": "code",
   "execution_count": null,
   "metadata": {
    "id": "kRLWl3k2HL93"
   },
   "outputs": [],
   "source": []
  },
  {
   "cell_type": "markdown",
   "metadata": {
    "id": "58P-xLooHu4J"
   },
   "source": [
    "* Define a function called `check_even_list` that takes a list of numbers as an argument. The function should return `True` if the list contains at least one even number; otherwise, it should return `False`.\n",
    "\n",
    "  ***Example Cases***\n",
    "  - `check_even_list([21, 5, 90, 256])` → should return `True`   \n",
    "  - `check_even_list([21, 5])` → should return `False`"
   ]
  },
  {
   "cell_type": "code",
   "execution_count": null,
   "metadata": {
    "id": "QUJBSHunH6rZ"
   },
   "outputs": [],
   "source": []
  },
  {
   "cell_type": "markdown",
   "metadata": {
    "id": "BnsXNohaIa5Z"
   },
   "source": [
    "* Define a function called `pick_even_list` that takes in a list of numbers, and returns all even numbers inside that list.\n",
    "  \n",
    "  `pick_even_list([21, 5, 90, 256])` → should return `[90, 256]`\n"
   ]
  },
  {
   "cell_type": "code",
   "execution_count": null,
   "metadata": {
    "id": "QFjUEbkqIe4G"
   },
   "outputs": [],
   "source": []
  },
  {
   "cell_type": "markdown",
   "metadata": {
    "id": "K6MqVf6GS4Dj"
   },
   "source": [
    "* Write a function called `lesser_of_two_evens` that returns the lesser of two given numbers if both numbers are even, but returns the greater if one or both numbers are odd.\n",
    "\n",
    "  ***Example Cases***\n",
    "  - `lesser_of_two_evens(2, 4)` → should return 2   \n",
    "  - `lesser_of_two_evens(2, 3)` → should return 3  \n",
    "\n"
   ]
  },
  {
   "cell_type": "code",
   "execution_count": null,
   "metadata": {
    "id": "YNndVz4rTNQX"
   },
   "outputs": [],
   "source": []
  },
  {
   "cell_type": "markdown",
   "metadata": {
    "id": "vvfQ2ZtJI_Rp"
   },
   "source": [
    "### Variable number of input arguments (`*args`)\n",
    "\n",
    "* Define a function called `count_and_add` that accepts an arbitrary number of *positional* arguments, and returns the count of the arguments and their sum (if in doubt about syntax, see slides on functions with multiple inputs and outputs).\n",
    "\n",
    "    If the function's output is assigned to a single variable, it will be a `tuple` containing both values. Since the number of outputs is known to you, you can unpack (extract) them when calling the function.\n",
    "\n",
    "  ***Example Cases***\n",
    "\n",
    "  * `connect_and_add([20, 90, 256])` → should return `(3,366)`\n",
    "  * `count, total = count_and_add(20,90,256)` → should return `count` of 3 and `total` of 366\n"
   ]
  },
  {
   "cell_type": "code",
   "execution_count": null,
   "metadata": {
    "colab": {
     "base_uri": "https://localhost:8080/"
    },
    "id": "niJ_3WtFJrYK",
    "outputId": "003347fd-f4b9-4f30-9e94-52730d26fc7f"
   },
   "outputs": [],
   "source": []
  },
  {
   "cell_type": "markdown",
   "metadata": {
    "id": "t2-3MbrgV9d3"
   },
   "source": [
    "***Tip***: If you're only interested in one of the returned values, you can directly index the function call to extract the specific output.\n",
    "\n",
    "For example, if you only need the sum of the arguments, you can call:\n",
    "`count_and_add(*args)[1]`\n",
    "\n",
    "Try it out!"
   ]
  },
  {
   "cell_type": "code",
   "execution_count": null,
   "metadata": {
    "id": "sjAEjrsdZ9pz"
   },
   "outputs": [],
   "source": []
  },
  {
   "cell_type": "markdown",
   "metadata": {
    "id": "S2Ya2ZPfJ2t5"
   },
   "source": [
    "Now, let's combine *args, loops, and conditionals (and optionally, *list unpacking when calling the function).\n",
    "* Define a function called `pick_evens` that takes in an arbitrary number of positional arguments, and returns a list containing only those arguments that are even.\n",
    "\n",
    "  ***Example Cases***\n",
    "  - `pick_evens(3, 10, 7, 8, 21, 24)` → should return `[10, 8, 24]`   \n",
    "  - `pick_evens(1, 5, 9)` → should return `[]`"
   ]
  },
  {
   "cell_type": "code",
   "execution_count": null,
   "metadata": {
    "id": "dVzTrXB2J6fX"
   },
   "outputs": [],
   "source": []
  },
  {
   "cell_type": "markdown",
   "metadata": {
    "id": "7l0U_Gb0KLnk"
   },
   "source": [
    "### Anonymous functions (i.e. `lambda` expressions)\n",
    "\n",
    "Lambda expressions are small, anonymous functions that can take any number of arguments, but must consist of a single expression. They are commonly used within other functions, especially in `map()` and `filter()`. \n",
    "\n",
    "If you need a refresher, refer to the the ***Functions*** slides for guidance on their usage, syntax and converting `def` functions into `lambda` expressions.\n",
    "\n",
    "You can also find more examples [here](https://www.w3schools.com/python/python_lambda.asp) and [here](https://www.geeksforgeeks.org/python-lambda-anonymous-functions-filter-map-reduce/).\n",
    "\n",
    "* Define a function called `spherical_loss` that returns transmission loss due to spherical spreading for a given range `r`.\n",
    "* Then, convert this function into an equivalent `lambda` expression, and use the `map` function to apply it to a list of ranges that includes 2, 3, 5, 10, and 100 m. The output should be a `list` of computed transmission losses.\n",
    ">***Tip***: check the ***Anonymous functions*** slide for an example of `map`'s syntax, usage and casting.\n",
    "\n",
    "Since Python does not have a built-in `log10` function, the necessary import is already included in the code cell:\n",
    "`from math import log10`\n",
    "\n",
    "`map` is a built-in function, so no additional imports are needed. \n",
    "\n",
    "You can use the `help(map)` function or read more about map [here](https://www.geeksforgeeks.org/python-map-function/)."
   ]
  },
  {
   "cell_type": "code",
   "execution_count": null,
   "metadata": {
    "colab": {
     "base_uri": "https://localhost:8080/"
    },
    "id": "eqao_4GPK6lX",
    "outputId": "9ab8c895-6fc1-4063-8634-38b1f35f8440"
   },
   "outputs": [],
   "source": [
    "from math import log10\n",
    "\n"
   ]
  },
  {
   "cell_type": "code",
   "execution_count": null,
   "metadata": {
    "id": "Ga0_4m82szhJ"
   },
   "outputs": [],
   "source": []
  },
  {
   "cell_type": "markdown",
   "metadata": {
    "id": "x6z-kWa1Lu5Z"
   },
   "source": [
    "### Utilizing `string` methods\n",
    "\n",
    "Like `lists` and `dictionaries`, Python `strings` have built-in methods that provide useful functionality. You'll now use some of them inside your functions to modify text.\n",
    "\n",
    "The full list of `string` methods can be found [here](https://docs.python.org/3/library/stdtypes.html#string-methods).\n",
    "\n",
    "\n",
    "* Define a function called `jitter_string` that takes in a `string`, and returns a new `string` where every even letter is uppercase, and every odd letter is lowercase.\n",
    "\n",
    "Assume that the incoming string only contains letters, and don't worry about numbers, spaces or punctuation. The output string can start with either an uppercase or lowercase letter, as long as pattern alternates correctly.\n",
    "\n",
    "  ***Example Case***\n",
    "\n",
    "     `jitter_string('Anthropomorphism')` → should return `aNtHrOpOmOrPhIsM`  \n",
    "\n",
    "***Tip***: you may find the `string` methods `.lower()` and `.upper()` helpful here."
   ]
  },
  {
   "cell_type": "code",
   "execution_count": null,
   "metadata": {
    "id": "7tdsIACCML-i"
   },
   "outputs": [],
   "source": [
    "# help(str.lower)\n",
    "# help(str.upper)\n"
   ]
  },
  {
   "cell_type": "markdown",
   "metadata": {
    "id": "-G-x-q2wMrvR"
   },
   "source": [
    "* Define a function called `master_yoda` that takes a sentence as input and returns a new sentence with the words in reverse order.\n",
    "\n",
    "  ***Example Cases***\n",
    "  - `master_yoda('I am home')` → should return `'home am I'`   \n",
    "  - `master_yoda('We are ready')` → should return `ready are We`\n",
    "\n",
    "  ***Tip***: slicing and the `string` methods `.split()` and `.join()` will be useful here.\n"
   ]
  },
  {
   "cell_type": "code",
   "execution_count": null,
   "metadata": {
    "id": "cJELc3_7xagn"
   },
   "outputs": [],
   "source": [
    "# help(str.join)\n",
    "# help(str.split)\n"
   ]
  },
  {
   "cell_type": "markdown",
   "metadata": {
    "id": "JsnuC7AJxuHC"
   },
   "source": [
    "* If you want an ***additional challenge***, adjust the output so that the first word is capitalized and the rest are in lowercase. \n",
    "\n",
    "  ***Tip***: String indexing and methods like `.lower()`,`.capitalize()` or `.upper()` may come in handy here."
   ]
  },
  {
   "cell_type": "code",
   "execution_count": null,
   "metadata": {
    "colab": {
     "base_uri": "https://localhost:8080/"
    },
    "id": "d4byVbD2NCVw",
    "outputId": "3404a276-501c-4698-ea7a-033ae9b317b7"
   },
   "outputs": [],
   "source": []
  },
  {
   "cell_type": "markdown",
   "metadata": {
    "id": "xc9osi5WiLVY"
   },
   "source": [
    "## Classes\n",
    "\n",
    "Classes provide a means of bundling data and functionality together. Creating a new class creates a new type of object, allowing new instances of that type to be made. Each class instance can have attributes attached to it for maintaining its state. Class instances can also have methods (defined by its class) for modifying its state.\n",
    "\n",
    "Classes are outside of the scope of this workshop. However we will give you some intuitive understanding for classes by implementing and running the examples from the slides. If you are interested to learn more about classes in Python you can follow [here](https://docs.python.org/3/tutorial/classes.html).\n",
    "\n"
   ]
  },
  {
   "cell_type": "code",
   "execution_count": null,
   "metadata": {
    "id": "-D6jNkHTjgrH"
   },
   "outputs": [],
   "source": [
    "class MyClass:\n",
    "        a = 17\n",
    "\n",
    "        def __init__(self, name, x = 5):\n",
    "            self.name = name\n",
    "            self.x = x\n",
    "\n",
    "        def add_to_x(self, y):\n",
    "            self.x += y\n",
    "\n",
    "        def my_name_is(self):\n",
    "            print(f\"{self.name}\")\n",
    "\n",
    "        def x_is(self):\n",
    "            print(f\"{self.x}\")"
   ]
  },
  {
   "cell_type": "markdown",
   "metadata": {
    "id": "Sb4SfISyjqDh"
   },
   "source": [
    "The code above implements a class called `MyClass` which has 3 methods `add_to_x`, `my_name_is` and `x_is` and an initialization `__init__` method implemented. You can create objects of this class, so-called instances by assigning a variable the type MyClass and the respective required arguments."
   ]
  },
  {
   "cell_type": "code",
   "execution_count": null,
   "metadata": {
    "colab": {
     "base_uri": "https://localhost:8080/",
     "height": 193
    },
    "id": "1a7pPgGJjpws",
    "outputId": "f371a28f-1b1e-46f2-ccf2-1925f408acba"
   },
   "outputs": [],
   "source": [
    "A = MyClass(\"A\")\n",
    "B = MyClass(\"nobody\",95)\n",
    "C = MyClass()"
   ]
  },
  {
   "cell_type": "markdown",
   "metadata": {
    "id": "Wvd2m5PWk8nx"
   },
   "source": [
    "The instances `A` were nicely `B` instantiated. `C` failed because it was missing the `name` argument upon assignment.\n",
    "\n",
    "You can now modify or interact with the instances by running their methods as shown below."
   ]
  },
  {
   "cell_type": "code",
   "execution_count": null,
   "metadata": {
    "colab": {
     "base_uri": "https://localhost:8080/"
    },
    "id": "3oSdvIEak6tM",
    "outputId": "40084806-3b36-47d6-b39f-e6ec05439bf4"
   },
   "outputs": [],
   "source": [
    "A.x_is()\n",
    "A.add_to_x(7)\n",
    "A.x_is()\n",
    "A.my_name_is()\n",
    "\n",
    "B.x_is()\n",
    "B.add_to_x(7)\n",
    "B.x_is()\n",
    "B.my_name_is()"
   ]
  }
 ],
 "metadata": {
  "colab": {
   "provenance": [],
   "toc_visible": true
  },
  "kernelspec": {
   "display_name": "Python 3 (ipykernel)",
   "language": "python",
   "name": "python3"
  },
  "language_info": {
   "codemirror_mode": {
    "name": "ipython",
    "version": 3
   },
   "file_extension": ".py",
   "mimetype": "text/x-python",
   "name": "python",
   "nbconvert_exporter": "python",
   "pygments_lexer": "ipython3",
   "version": "3.12.2"
  }
 },
 "nbformat": 4,
 "nbformat_minor": 4
}
