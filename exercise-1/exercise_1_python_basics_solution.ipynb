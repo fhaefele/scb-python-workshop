{
 "cells": [
  {
   "cell_type": "markdown",
   "metadata": {
    "id": "QxirkvwCuhxm"
   },
   "source": [
    "# Getting to know some basic Python\n",
    "\n",
    "This Jupyter Notebook is designed for use in the SCB Python workshop in Svanninge."
   ]
  },
  {
   "cell_type": "markdown",
   "metadata": {
    "id": "CKAHMNWHgo8R"
   },
   "source": [
    "### Jupyter Notebook Survival Guide\n",
    "\n",
    "Before diving into Python, here's a quick reference for the most commonly used keyboard shortcuts.\n",
    "\n",
    "* **Run a cell**: `Ctrl+Enter`\n",
    "* **Run and advance to the next cell**: `Shift+Enter`\n",
    "* **Switch to Command Mode**: Press `Esc` (to use the shortcuts in table below)\n",
    "* **Switch to Edit Mode**: Press `Enter` (to write code or markdown inside cells)\n",
    "\n",
    "\n",
    "\n",
    "Action | Jupyter | Colab\n",
    ":---|:--- | :---\n",
    "Add a cell above | A | Ctrl + M + A\n",
    "Add a cell below | B | Ctrl + M + B\n",
    "See all keyboard shortcuts | H | Ctrl + M + H\n",
    "Change cell to code | Y | Ctrl + M + Y\n",
    "Change cell to markdown | M | Ctrl + M + M\n",
    "Interrupt the Kernel | II | Ctrl + M + I\n",
    "Delete a cell | DD | Ctrl + M + D\n",
    "Checkpoint notebook | Ctrl + S | Ctrl + M + S"
   ]
  },
  {
   "cell_type": "markdown",
   "metadata": {
    "id": "Ywp__AblvacD"
   },
   "source": [
    "## Basic Python syntax\n",
    "\n",
    "Now let's get comfortable with some basic Python syntax.\n",
    "\n",
    "This includes the sensitivity to white spaces (since Python relies on indentation  to define scope in the code), including their consistency, as well as variable assignments and comments. Execute the following cells to get an intuitive understanding of the Python syntax."
   ]
  },
  {
   "cell_type": "markdown",
   "metadata": {
    "id": "dMcap0WMv5PY"
   },
   "source": [
    "### White space sensitivity"
   ]
  },
  {
   "cell_type": "code",
   "execution_count": null,
   "metadata": {
    "id": "Hf906uyqui55"
   },
   "outputs": [],
   "source": [
    "if 5 > 2:\n",
    " print(\"Five is greater than two!\")\n",
    "\n",
    "if 5 > 2:\n",
    " print(\"Five is greater than two!\")"
   ]
  },
  {
   "cell_type": "code",
   "execution_count": null,
   "metadata": {
    "colab": {
     "base_uri": "https://localhost:8080/",
     "height": 106
    },
    "id": "oBMZrUA2v1nz",
    "outputId": "bd834782-4b51-48e3-896b-c430838463f0"
   },
   "outputs": [
    {
     "ename": "SyntaxError",
     "evalue": "invalid syntax (<ipython-input-5-7e191154dd5b>, line 9)",
     "output_type": "error",
     "traceback": [
      "\u001b[0;36m  File \u001b[0;32m\"<ipython-input-5-7e191154dd5b>\"\u001b[0;36m, line \u001b[0;32m9\u001b[0m\n\u001b[0;31m    else:\u001b[0m\n\u001b[0m    ^\u001b[0m\n\u001b[0;31mSyntaxError\u001b[0m\u001b[0;31m:\u001b[0m invalid syntax\n"
     ]
    }
   ],
   "source": [
    "if 5 > 2:\n",
    " print(\"Five is greater than two!\")\n",
    "\n",
    "if 5 > 2:\n",
    "    \tprint(\"Five is greater than two!\")\n",
    "\n",
    "if 5 < 2:\n",
    " print('abc')\n",
    " else:\n",
    "    print('wow')"
   ]
  },
  {
   "cell_type": "markdown",
   "metadata": {
    "id": "imFdhROnv8ZM"
   },
   "source": [
    "### Variable assignment of different types\n",
    "\n",
    "Create variables with the following names and types, using values in the last column:\n",
    "\n",
    "name | type | value\n",
    "---|--- | ---\n",
    "x | string | 5\n",
    "y | string | Hello, world!\n",
    "z | float | 5\n",
    "abc | int | 19.5\n",
    "this_is_a_variable | complex | 1+5i\n",
    "z | float | z + 5\n",
    "z2 | float | z + abc\n",
    "\n",
    "Make sure to use comments to explain your code. \n",
    "\n",
    "**Keyboard Shortcuts for Commenting Code**  \n",
    "- **Jupyter Notebooks**: `Ctrl+/` (also within Spyder)\n",
    "- **Spyder Editor**: `Ctrl+1` (`Ctrl+2` inserts a cell divider `# %%`)  \n",
    "- **Most Code Editors**: `Ctrl+/`\n",
    "\n",
    "Shortcuts can be customized in settings."
   ]
  },
  {
   "cell_type": "code",
   "execution_count": null,
   "metadata": {
    "id": "d3Ca1AVE2ShA"
   },
   "outputs": [],
   "source": [
    "x = \"5\"\n",
    "y = \"Hello, world!\"\n",
    "z = 5.0\n",
    "abc = int(19.5)\n",
    "this_is_a_variable = 1+5j\n",
    "z += 5\n",
    "z2 = z + abc\n"
   ]
  },
  {
   "cell_type": "markdown",
   "metadata": {
    "id": "bDLHSF8JyoYR"
   },
   "source": [
    "## Printing and f-strings\n",
    "\n",
    "We’ll use the variables we previously generated to practice printing output to the terminal. Since we’re working in a Jupyter notebook, we don’t always need to use `print()` to display values - but for learning purposes, we’ll explicitly use it.\n",
    "\n",
    "To see which variables exist in your current workspace, use the `dir()` [function](https://docs.python.org/3/tutorial/modules.html#the-dir-function). This will list all defined variables, functions, and imported packages.\n",
    "* Print the workspace using `dir()` and identify the variables we generated earlier."
   ]
  },
  {
   "cell_type": "code",
   "execution_count": null,
   "metadata": {
    "colab": {
     "base_uri": "https://localhost:8080/"
    },
    "id": "phtuI1tf1vUH",
    "outputId": "3bf68759-8aad-49a8-a054-74f1d84d1969"
   },
   "outputs": [
    {
     "name": "stdout",
     "output_type": "stream",
     "text": [
      "['In', 'Out', '_', '_13', '__', '___', '__builtin__', '__builtins__', '__doc__', '__loader__', '__name__', '__package__', '__spec__', '_dh', '_i', '_i1', '_i10', '_i11', '_i12', '_i13', '_i14', '_i2', '_i3', '_i4', '_i5', '_i6', '_i7', '_i8', '_i9', '_ih', '_ii', '_iii', '_oh', 'abc', 'exit', 'get_ipython', 'quit', 'this_is_a_variable', 'x', 'y', 'z', 'z2']\n"
     ]
    }
   ],
   "source": [
    "print(dir())"
   ]
  },
  {
   "cell_type": "markdown",
   "metadata": {},
   "source": [
    "Now, print the values of all previously generated variables using the `print()` function.\n",
    "* Use `print()` to display the variables from the table above. If you want to explore different options for formatting the output, call `help(print)` to check available arguments."
   ]
  },
  {
   "cell_type": "code",
   "execution_count": null,
   "metadata": {
    "colab": {
     "base_uri": "https://localhost:8080/"
    },
    "id": "jtRYGSdy4JAp",
    "outputId": "ab7b822b-bbf1-4a3d-d2ea-291362992b75"
   },
   "outputs": [
    {
     "name": "stdout",
     "output_type": "stream",
     "text": [
      "Help on built-in function print in module builtins:\n",
      "\n",
      "print(*args, sep=' ', end='\\n', file=None, flush=False)\n",
      "    Prints the values to a stream, or to sys.stdout by default.\n",
      "    \n",
      "    sep\n",
      "      string inserted between values, default a space.\n",
      "    end\n",
      "      string appended after the last value, default a newline.\n",
      "    file\n",
      "      a file-like object (stream); defaults to the current sys.stdout.\n",
      "    flush\n",
      "      whether to forcibly flush the stream.\n",
      "\n"
     ]
    }
   ],
   "source": [
    "help(print)"
   ]
  },
  {
   "cell_type": "code",
   "execution_count": null,
   "metadata": {
    "colab": {
     "base_uri": "https://localhost:8080/"
    },
    "id": "aFUYaZU_4L6n",
    "outputId": "3201ede1-9375-44eb-b50e-dbdcdc5976b7"
   },
   "outputs": [
    {
     "name": "stdout",
     "output_type": "stream",
     "text": [
      "5>----<Hello, world!>----<10.0>----<19>----<(1+5j)>----<29.0\n"
     ]
    }
   ],
   "source": [
    "print(x,y,z,abc,this_is_a_variable,z2,sep='>----<')\n"
   ]
  },
  {
   "cell_type": "markdown",
   "metadata": {
    "id": "jA7Cbtns26-p"
   },
   "source": [
    "Now, let’s use **f-strings** to create and format new strings using the existing variables. f-strings provide a clean and readable way to insert variables into strings. \n",
    "You can find more (and more elaborate) string formatting examples [here:](https://www.w3schools.com/python/python_string_formatting.asp)\n",
    "\n",
    "1.   Create a new string that lists the values of `x`, `y` and `z`.\n",
    "2.   Format `z` by padding it with five leading zeros.\n",
    "3.   Format the integer `abc` to display three decimal places.\n",
    "\n",
    "***Hint:*** Float formatting follows {value:width.precision *f*}\n"
   ]
  },
  {
   "cell_type": "code",
   "execution_count": null,
   "metadata": {
    "colab": {
     "base_uri": "https://localhost:8080/"
    },
    "id": "qWxEl5m24mzL",
    "outputId": "33b071a6-e13a-41bd-84e4-18c4d8270eb7"
   },
   "outputs": [
    {
     "name": "stdout",
     "output_type": "stream",
     "text": [
      "5, Hello, world!, 10.0\n",
      "z=010.0\n",
      "19.000\n"
     ]
    }
   ],
   "source": [
    "#1\n",
    "print(f\"{x}, {y}, {z}\")\n",
    "\n",
    "#2\n",
    "print(f\"{z=:05}\")\n",
    "\n",
    "#3\n",
    "print(f\"{abc:.3f}\")"
   ]
  },
  {
   "cell_type": "markdown",
   "metadata": {
    "id": "e51JRTcYuzje"
   },
   "source": [
    "## Data structures\n",
    "\n",
    "Next, we will cover data structures and different ways to interact with them (e.g., using indexing, slicing, operators, and their built-in methods). If you want more practice, visit [this page.](https://www.geeksforgeeks.org/python-data-structures-and-algorithms/)\n",
    "\n"
   ]
  },
  {
   "cell_type": "markdown",
   "metadata": {
    "id": "lM9ZlmOONrfH"
   },
   "source": [
    "### Lists\n",
    "A list is a built-in dynamic array that can store elements of different data types. It is an ordered, mutable collection of items, meaning elements are stored in the same order as they were inserted into the list.\n",
    "\n",
    "*   Create a list called `my_list` containing the values: `10, 20, \"GfG\", 40, True`"
   ]
  },
  {
   "cell_type": "code",
   "execution_count": 16,
   "metadata": {
    "id": "BKm8Xpnau5Th"
   },
   "outputs": [],
   "source": [
    "my_list = [10, 20, \"GfG\", 40, True]"
   ]
  },
  {
   "cell_type": "markdown",
   "metadata": {
    "id": "u8YjhpGLu7LJ"
   },
   "source": [
    "##### Checking List Length\n",
    "Oftentimes, we want to know how many items a list object contains. We can use the `len()` function on the list object `my_list` to find that out.\n",
    "\n",
    "*   How many items does the list contain?\n",
    "*   Print the first and the last item in `my_list`."
   ]
  },
  {
   "cell_type": "code",
   "execution_count": 24,
   "metadata": {
    "colab": {
     "base_uri": "https://localhost:8080/"
    },
    "id": "1vqpSaXbvIaq",
    "outputId": "edabbb4d-d661-4710-cb46-33b961ec2de1"
   },
   "outputs": [
    {
     "name": "stdout",
     "output_type": "stream",
     "text": [
      "my_list=[10, 20, 'GfG', 40, True, ['zz', 1, 2, 3, False]] has a length of 6\n",
      "first 10\n",
      "last ['zz', 1, 2, 3, False]\n"
     ]
    }
   ],
   "source": [
    "print(f\"{my_list=} has a length of {len(my_list)}\")\n",
    "\n",
    "print('first', my_list[0])\n",
    "print('last', my_list[-1])"
   ]
  },
  {
   "cell_type": "markdown",
   "metadata": {
    "id": "vcaOI-acvXpy"
   },
   "source": [
    "##### Modifying Lists\n",
    "We can replace items in lists by using indexing or slicing if we want to select multiple parts/elements from the list.\n",
    "\n",
    "*   Change the 2nd element in the list (`20`) by multiplying it with `3.7`.\n",
    "*   Create a new variable `my_list_rev` containing the reversed order of the list elements.\n",
    "*   Create a new variable `my_numbers` selecting only the numbers in `my_list`\n",
    "\n",
    "This step is a bit tricky, as you need to grab two sections of the list. You can use slicing to grab the first part and then append the last element. There are two options: you can either use the `+` operator to concatenate two lists (*for this to work both addends must be of type list*), or you can use the built-in `.append()` method. The `.append()` method works **in place**, meaning it modifies the list directly.\n",
    "\n",
    " * Run `my_list.append(5555)` four times, then print `my_list`."
   ]
  },
  {
   "cell_type": "code",
   "execution_count": null,
   "metadata": {
    "colab": {
     "base_uri": "https://localhost:8080/"
    },
    "id": "Qgq4EfJ0vU_A",
    "outputId": "8e5dfd3c-f373-4c15-f6b7-b5831b530c12"
   },
   "outputs": [
    {
     "name": "stdout",
     "output_type": "stream",
     "text": [
      "[True, 40, 'GfG', 74.0, 10]\n",
      "[10, 74.0, 40]\n",
      "[10, 74.0, 40]\n"
     ]
    }
   ],
   "source": [
    "my_list[1] *= 3.7\n",
    "\n",
    "my_list_rev = my_list[::-1]\n",
    "print(my_list_rev)\n",
    "\n",
    "\n",
    "my_numbers = my_list[0:2]+[my_list[3]]\n",
    "print(my_numbers)\n",
    "\n",
    "my_numbers = my_list[0:2]\n",
    "my_numbers.append(my_list[3])\n",
    "print(my_numbers)\n",
    "\n",
    "my_list.append(5555)\n",
    "my_list.append(5555)\n",
    "my_list.append(5555)\n",
    "my_list.append(5555)\n",
    "print(my_list)"
   ]
  },
  {
   "cell_type": "markdown",
   "metadata": {},
   "source": [
    "You can also append more than one element by providing another list as an input argument to `.append()`, for example: `my_list.append(['zz', 1, 2, 3, False])`. This will, however, create a nested list as `.append()` adds the entire list as a single element. If your goal is to *merge* two lists, you can use `.extend()` (which unpacks the elements), the `+` operator, or *unpack* both lists using the `*` operator (see the section on `*args` and `**kwargs` in Functions slides) inside `[]`, i.e. `[*first_list, *second_list]`.\n",
    "* Create two copies of `my_list`, called `my_list_copied` and `my_list_copied2`, using the `.copy()` method. Then use `.append(my_list_rev)` on `my_list` and `.extend(my_list_rev)` on `my_list_copied`. Can you predict the difference between `my_list` and `my_list_copied`? Print `my_list`, `my_list_copied`, and compare the results to your predictions.\n",
    "* Merge `my_list_copied2` with `my_list_rev` using `*` and compare the result to the earlier outputs.\n",
    "* Try `print(*my_list_copied)` to explore the `*` operator further.\n"
   ]
  },
  {
   "cell_type": "code",
   "execution_count": 22,
   "metadata": {},
   "outputs": [
    {
     "name": "stdout",
     "output_type": "stream",
     "text": [
      "10\n",
      "[20, 'GfG', 40, True]\n",
      "['zz', 1, 2, 3, False]\n"
     ]
    }
   ],
   "source": [
    "my_list_copied = my_list.copy()\n",
    "my_list_copied2 = my_list.copy()\n",
    "\n",
    "my_list.append(my_list_rev)\n",
    "my_list_copied.extend(my_list_rev)\n",
    "print(my_list)\n",
    "print(my_list_copied)\n",
    "\n",
    "# merging 2 lists with an unpacking operator\n",
    "my_merged_list = [*my_list_copied, *my_list_rev]\n",
    "print(my_merged_list)\n",
    "\n",
    "print(*my_list_copied)"
   ]
  },
  {
   "cell_type": "markdown",
   "metadata": {},
   "source": [
    "##### Unpacking Lists\n",
    "Python allows you to **unpack** values from a list (or other iterables) directly into multiple variables using the following syntax: `x,y = a_list_with_two_items`. This means you can assign individual elements of a list to separate variables in a single line.\n",
    "* Explore  ***iterable unpacking*** by creating a list containing three numbers, and unpacking its elements into three variables: `a`, `b` and `c`. Print each variable to verify the values.\n",
    "\n",
    "Python allows ***extended iterable unpacking*** (also known as ***iterable unpacking with starred expressions***) using the `*` operator, which captures multiple elements in a single variable.\n",
    "* Explore extended iterable unpacking by extracting parts of a list using the *iterable unpacking* syntax and the `*` operator. Use extended iterable unpacking to:\n",
    "  1. Assign the first element of `my_list_rev` to the variable `a`.\n",
    "  2. Assign the last element to the variable `c`.\n",
    "  3. Capture all middle elements in the variable `b`.\n",
    "  After unpacking, print `a`, `b`, and `c` to verify the results.\n",
    "***Hint:*** Use the `*` operator in the assignment statement to capture all middle elements in `b`."
   ]
  },
  {
   "cell_type": "code",
   "execution_count": null,
   "metadata": {},
   "outputs": [],
   "source": [
    "short_list = [10, 20, 30]\n",
    "a, b, c = short_list\n",
    "print(a)\n",
    "print(b)\n",
    "print(c)\n",
    "\n",
    "# extract list body with unpacking operator\n",
    "my_list\n",
    "a, *b, c = my_list\n",
    "\n",
    "print(a)\n",
    "print(b)\n",
    "print(c)"
   ]
  },
  {
   "cell_type": "markdown",
   "metadata": {
    "id": "uYZ-wxtGvhox"
   },
   "source": [
    "##### List Methods\n",
    "Python has many [built-in methods for lists](https://docs.python.org/3/tutorial/datastructures.html#more-on-lists). You can see these by typing `my_list.` and hitting `Tab`. You can call the `help()` function on them to learn more about their syntax.\n",
    "Some of the key list methods are: : `append`, `extend`, `insert`, `remove`, `pop`, `clear`, `index`, `count`, `sort`, `reverse`, `copy`. \n",
    "\n",
    "*  Look up how to use the `.insert()` method (best using the official docs linked above).\n",
    "*  Insert the value `False` into `my_list_rev` after the value `74.0`. After inserting, the list should look like this: `[True, 40, 'GfG', 74.0, False, 10]`.\n"
   ]
  },
  {
   "cell_type": "code",
   "execution_count": null,
   "metadata": {
    "colab": {
     "base_uri": "https://localhost:8080/"
    },
    "id": "f-EPsH1m6DkC",
    "outputId": "33f39bfc-387d-4b95-9973-642f4cdfcfad"
   },
   "outputs": [
    {
     "name": "stdout",
     "output_type": "stream",
     "text": [
      "Help on method_descriptor:\n",
      "\n",
      "insert(self, index, object, /) unbound builtins.list method\n",
      "    Insert object before index.\n",
      "\n",
      "[True, 40, 'GfG', 74.0, False, 10]\n"
     ]
    }
   ],
   "source": [
    "help(list.insert)\n",
    "\n",
    "my_list_rev.insert(4,False)\n",
    "print(my_list_rev)"
   ]
  },
  {
   "cell_type": "markdown",
   "metadata": {
    "id": "Zl1GpH3_wNKT"
   },
   "source": [
    "### Tuples\n",
    "\n",
    "Tuples are immutable, ordered collections that usually contain a heterogeneous sequence of elements. Since they cannot be modified, tuples are often used to pass objects around in programs while ensuring data integrity.\n",
    "\n",
    "A special feature of tuples is the construction of tuples containing 0 or 1 item(s). Here's how:\n",
    "\n",
    ">An empty tuple is constructed with an empty pair of parentheses: `()`.\n",
    "\n",
    ">A tuple with one item is constructed by adding a comma after the value (it is not enough to just use parentheses around a single value): e.g. `(1,)`.\n",
    "\n",
    "* Create an *empty tuple* called `t1` and a *tuple with one item* called `t2` containing a single element of your choice.\n",
    "* Create a tuple `t3` containing the values `1,2,3,4`, and `t4` containing the values `0,1,2,3,4,5,6`\n",
    "\n",
    "BTW you can also make tuples without brackets. For example `t5 = 7,8,9` is also a tuple.\n",
    "\n",
    "* Explore the available tuple built-in methods (e.g. by typing `t1.` and hitting `Tab`). Compare the list of methods for tuples with those available for lists. Can you guess why the methods differ?\n"
   ]
  },
  {
   "cell_type": "code",
   "execution_count": 26,
   "metadata": {
    "colab": {
     "base_uri": "https://localhost:8080/"
    },
    "id": "q0JwUzFhyuQu",
    "outputId": "ccd0fd28-5262-4149-e9b6-a85d85d6c95b"
   },
   "outputs": [
    {
     "name": "stdout",
     "output_type": "stream",
     "text": [
      "<class 'int'>\n"
     ]
    }
   ],
   "source": [
    "t1 = ()\n",
    "t2 = (1,)\n",
    "t3 = 1,2,3,4\n",
    "t4 = 0,1,2,3,4,5,6\n",
    "not_a_tuple = (1)\n",
    "print(type(not_a_tuple))"
   ]
  },
  {
   "cell_type": "markdown",
   "metadata": {
    "id": "rEUi3iDBzHtp"
   },
   "source": [
    "Like for lists, we can use ***iterable upacking*** and ***extended iterable unpacking*** to assign values from a tuple to individual variables. Recall the syntax: `x, y, z = t`. In this case `t` contains 3 values that are assigned to the variables `x`,`y`,`z`. \n",
    "You can also use the `*` operator to capture parts of the tuple into a variable. \n",
    "* Unpack the tuple `t3` into variables `t31`, `t32`, ...\n",
    "* Now, unpack the tuple `t4` into a list called `t4_unpacked`. This means you'll convert the tuple’s elements into a list.\n",
    "\n",
    "Remeber that you can also use indexing (e.g.`t32 = t3[1]`) and that if you're not interested in a particular value while unpacking you can use the `_` variable as a placeholder."
   ]
  },
  {
   "cell_type": "code",
   "execution_count": null,
   "metadata": {
    "colab": {
     "base_uri": "https://localhost:8080/"
    },
    "id": "SPho1OcDy9Yq",
    "outputId": "8de5f281-1d46-4d72-cf0a-1ad3dc132da6"
   },
   "outputs": [
    {
     "name": "stdout",
     "output_type": "stream",
     "text": [
      "[0, 1, 2, 3, 4, 5, 6]\n"
     ]
    }
   ],
   "source": [
    "t31,t32, t31, t32 = t3\n",
    "\n",
    "_,_,t31,_ = t3\n",
    "\n",
    "t4_unpacked = [*t4]\n",
    "print(t4_unpacked)"
   ]
  },
  {
   "cell_type": "markdown",
   "metadata": {
    "id": "KN7xo7pp3qJZ"
   },
   "source": [
    "### Dictionaries\n",
    "\n",
    "Dictionaries are sometimes found in other languages as “associative memories” or “associative arrays” (in Matlab they would correspond to structures). Think *mappings* rather than *sequences*, where objects are stored by their relative position - see lists or tuples. Dictionaries are indexed by keys, which can be any immutable type; strings and numbers can always be keys. It is best to think of a dictionary as a set of key: value pairs, with the requirement that the keys are unique (within one dictionary). The value can be almost any Python object. \n",
    "\n",
    "A pair of braces creates an empty dictionary: `{}` or `dict()`. Placing a comma-separated list of key:value pairs within the braces adds initial key:value pairs to the dictionary; this is also the way dictionaries are written on output.\n",
    "\n",
    "The main operations on a dictionary are storing a value with some key and extracting the value given the key. It is also possible to delete a key:value pair with `del`. If you store using a key that is already in use, the old value associated with that key is forgotten. It is an error to extract a value using a non-existent key.\n",
    "\n",
    "Performing `list(d)` on a dictionary returns a list of all the keys used in the dictionary, in insertion order (if you want it sorted, just use `sorted(d)` instead). To check whether a single key is in the dictionary, use the `in` keyword.\n",
    "\n"
   ]
  },
  {
   "cell_type": "markdown",
   "metadata": {
    "id": "fwTruEpytPsI"
   },
   "source": [
    "#### Creating and accessing dictionaries\n",
    "Dictionaries are very flexible in the data types they can hold.\n",
    "* Make a dictionary `my_dict` with five number keys storing the values `123`,`abc`,`[1,2,3]`, `True` and `{'insideKey':100}`."
   ]
  },
  {
   "cell_type": "code",
   "execution_count": null,
   "metadata": {
    "id": "urTFJ_5_46jr"
   },
   "outputs": [],
   "source": [
    "my_dict = {'key1':123, 'key2':'abc', 'key3':[1,2,3], 'key4':True, 'key5':{'insideKey':100}}\n",
    "my_dict"
   ]
  },
  {
   "cell_type": "markdown",
   "metadata": {
    "id": "cv3UKARqoDq_"
   },
   "source": [
    "Like with lists and tuples, dictionaries have a number of methods or built-in functions that allow you to perform operations on them. You can quickly preview them by typing `my_dict.` and hitting `Tab`.\n",
    "* Try for example `my_dict.keys()`,`my_dict.values()` and `my_dict.items()`."
   ]
  },
  {
   "cell_type": "code",
   "execution_count": null,
   "metadata": {
    "id": "BgfqNV3noMxX"
   },
   "outputs": [],
   "source": [
    "my_dict.keys()"
   ]
  },
  {
   "cell_type": "code",
   "execution_count": null,
   "metadata": {
    "id": "f53UBc-voOD8"
   },
   "outputs": [],
   "source": [
    "my_dict.values()"
   ]
  },
  {
   "cell_type": "code",
   "execution_count": null,
   "metadata": {
    "id": "IlObiBGwoOdM"
   },
   "outputs": [],
   "source": [
    "my_dict.items()"
   ]
  },
  {
   "cell_type": "markdown",
   "metadata": {
    "id": "_4mFtwZ547D7"
   },
   "source": [
    "You can call items within the dictionary by indexing with the keys, e.g. my_dict['key1']. To access nested structures, indices are stacked, i.e. `d[][]`.\n",
    "* Extract the third value of the list in key3."
   ]
  },
  {
   "cell_type": "code",
   "execution_count": null,
   "metadata": {
    "id": "au-DEkaJofVi"
   },
   "outputs": [],
   "source": [
    "my_dict['key3'][2]"
   ]
  },
  {
   "cell_type": "markdown",
   "metadata": {
    "id": "X2EAN6kOojmO"
   },
   "source": [
    "Similarly, object methods can also be stacked.\n",
    "* Extract the string in `key2` and make it uppercase using string object's built-in `upper()` function. Then extract the second letter of the string. *Note:* All this can be done in one line of code."
   ]
  },
  {
   "cell_type": "code",
   "execution_count": null,
   "metadata": {
    "id": "2Ekqu2G_omEQ"
   },
   "outputs": [],
   "source": [
    "my_dict['key2'].upper()[1]"
   ]
  },
  {
   "cell_type": "markdown",
   "metadata": {
    "id": "Rw7jdLvQovU1"
   },
   "source": [
    "Values within dictionaries can be modified.\n",
    "* Subtract 40 from the `insideKey` value of the `key5` dictionary and replace the `insideKey` value with the result. *Note:* you can utilize the `-=` operator."
   ]
  },
  {
   "cell_type": "code",
   "execution_count": null,
   "metadata": {
    "id": "O09Pkg9kozTF"
   },
   "outputs": [],
   "source": [
    "my_dict['key5']['insideKey'] -= 40\n",
    "my_dict"
   ]
  },
  {
   "cell_type": "markdown",
   "metadata": {
    "id": "1p8BLznYo2PA"
   },
   "source": [
    "Dictionary key value pairs can also be created by assignment using key indexing.\n",
    "* Create an empty dictionary called `bat_weights_g` then assign 7 to `dau` 8 to `nat` and 5 to `pyg`."
   ]
  },
  {
   "cell_type": "code",
   "execution_count": null,
   "metadata": {
    "id": "jBbXh_1fpAaF"
   },
   "outputs": [],
   "source": [
    "bat_weights_g = {}"
   ]
  },
  {
   "cell_type": "code",
   "execution_count": null,
   "metadata": {
    "id": "tRe6cxVTpCQu"
   },
   "outputs": [],
   "source": [
    "bat_weights_g['dau'] = 7\n",
    "bat_weights_g['nat'] = 8\n",
    "bat_weights_g['pyg'] = 5\n",
    "bat_weights_g"
   ]
  },
  {
   "cell_type": "markdown",
   "metadata": {
    "id": "1gIwpqqYpHCs"
   },
   "source": [
    "The same dictionary can be created using the `dict()` function with a sequence of key-value pairs.\n",
    "* Create a list of three tuples, each containing the species key and weight value. Use the list as input to `dict()`."
   ]
  },
  {
   "cell_type": "code",
   "execution_count": null,
   "metadata": {
    "id": "oxW6DNIJpIYD"
   },
   "outputs": [],
   "source": [
    "dict([('dau',7), ('nat',8), ('pyg',5)])"
   ]
  },
  {
   "cell_type": "markdown",
   "metadata": {
    "id": "DORcBpympUC0"
   },
   "source": [
    "Finally, when the keys are simple strings, like in our case here, you can use them as *keyword arguments* to `dict()` directly.\n",
    "* Try doing just that."
   ]
  },
  {
   "cell_type": "code",
   "execution_count": null,
   "metadata": {
    "id": "xwlJWHaxphWi"
   },
   "outputs": [],
   "source": [
    "dict(dau=7, nat=8, pyg=5)"
   ]
  },
  {
   "cell_type": "markdown",
   "metadata": {
    "id": "PtjjXpmZtm2o"
   },
   "source": [
    "#### Deleting items in dictionaries\n",
    "* Dictionary items can be removed using the `.pop()` dictionary method (same syntax as for lists, just with key as index), or the `del` statement. Remove the `pyg` key-value pair using `.pop()`, then assign it again to the dictiory and remove using `del dict['key']`."
   ]
  },
  {
   "cell_type": "code",
   "execution_count": null,
   "metadata": {
    "id": "yyzs-EXQut_1"
   },
   "outputs": [],
   "source": [
    "bat_weights_g.pop('pyg')\n",
    "bat_weights_g"
   ]
  },
  {
   "cell_type": "code",
   "execution_count": null,
   "metadata": {
    "id": "3Nj6NEMguvtB"
   },
   "outputs": [],
   "source": [
    "bat_weights_g['pyg'] = 5\n",
    "bat_weights_g"
   ]
  },
  {
   "cell_type": "code",
   "execution_count": null,
   "metadata": {
    "id": "1d9yJrMiuzCC"
   },
   "outputs": [],
   "source": [
    "del bat_weights_g['pyg']\n",
    "bat_weights_g"
   ]
  },
  {
   "cell_type": "markdown",
   "metadata": {
    "id": "OIwlrox-tt8f"
   },
   "source": [
    "* Unlike lists, dictionaries cannot be concatenated using the `+` operator. However, you can merge two dictionaries by unpacking them with the `**` operator (i.e., `**dict`) inside `{}` (similar to the list `*` syntax). This creates a new dictionary containing all key-value pairs from the merged dictionaries. Merge `my_dict` and `bat_weights_g` into a single dictionary using dictionary unpacking."
   ]
  },
  {
   "cell_type": "code",
   "execution_count": null,
   "metadata": {
    "id": "lJHkdvJdu37p"
   },
   "outputs": [],
   "source": [
    "{**my_dict, **bat_weights_g}"
   ]
  },
  {
   "cell_type": "markdown",
   "metadata": {
    "id": "FkENObBs06MJ"
   },
   "source": [
    "## Python statements"
   ]
  },
  {
   "cell_type": "markdown",
   "metadata": {
    "id": "goniqH5O25hG"
   },
   "source": [
    "### `if`, `elif`, `else` statements"
   ]
  },
  {
   "cell_type": "markdown",
   "metadata": {
    "id": "uDS1waAu55lV"
   },
   "source": [
    "#### Logical and comparison operators in Python  \n",
    "\n",
    "Python supports standard logical conditions from mathematics - refer to the ***Comparison and logical operators*** slide for details. These conditions are most commonly used in if statements and loops but can appear in other contexts as well.\n",
    "\n",
    ">**Comparison Operators**: Operators like `==`, `<`, `>`, `<=`, and `>=` are used to compare values.  \n",
    "  **Membership Operators**: `in` and `not in` check whether a value exists within a container (e.g., a list or string).  \n",
    "  **Identity Operators**: `is` and `is not` determine whether two variables refer to the same object in memory.  \n",
    "\n",
    "All comparison operators have the same precedence, which is lower than that of numerical operators.  \n",
    "\n",
    "#### Chaining and combining comparisons  \n",
    ">Comparisons can be ***chained***:  \n",
    "\n",
    "    `a < b == c`  # Checks if `a` is less than `b` and if `b` equals `c`\n",
    "\n",
    ">Boolean operators `and`, `or`, and `not` can be used to ***combine comparisons***; `not` has the highest priority, followed by `and`, and then `or`. For example:\n",
    "\n",
    "    `A and not B or C`  # Equivalent to: `(A and (not B)) or C`\n",
    "\n",
    ">>As always, parentheses should be used to ensure clarity in complex conditions.\n",
    "\n",
    "#### Short-circuit evaluation\n",
    "Python's Boolean operators and and or use short-circuit evaluation, meaning:\n",
    "\n",
    ">**For** `and`, evaluation stops if any condition is `False` (since the whole expression must be `False`).\n",
    ">**For** `or`, evaluation stops if any condition is `True` (since the whole expression must be `True`).\n",
    "\n",
    "    `A and B and C`  # If `A` and `C` are `True` but `B` is `False`, `C` is never evaluated\n",
    "\n",
    "When used in expressions beyond Boolean logic, short-circuit operators return the ***last evaluated argument*** instead of strictly `True` or `False`.\n",
    "\n",
    "It is possible to assign the result of a comparison or other Boolean expression to a variable. For example:\n",
    "\n",
    "    string1, string2, string3 = '', 'bat', 'frog'\n",
    "    non_null = string1 or string2 or string3\n",
    "    print(non_null)"
   ]
  },
  {
   "cell_type": "code",
   "execution_count": null,
   "metadata": {
    "colab": {
     "base_uri": "https://localhost:8080/"
    },
    "id": "609I7HDf5z5n",
    "outputId": "0dd0748c-8263-472d-da3b-86b234d84f16"
   },
   "outputs": [
    {
     "name": "stdout",
     "output_type": "stream",
     "text": [
      "bat\n"
     ]
    }
   ],
   "source": [
    "string1, string2, string3 = '', 'bat', 'frog'\n",
    "non_null = string1 or string2 or string3\n",
    "print(non_null)"
   ]
  },
  {
   "cell_type": "markdown",
   "metadata": {
    "id": "sMHVEvNAJ9_B"
   },
   "source": [
    "#### `if`, `elif`, `else` syntax\n",
    "\n",
    "Conditional statements allow your program to make decisions based on different conditions. In Python, `if`, `elif`, and `else` are used to control the flow of execution based on specified conditions (refer to ***if statements*** slide for more details).\n",
    "\n",
    "However, `if` statements cannot be empty. If you need to define an `if` statement but don't yet have any code to execute inside it, you can use the `pass` statement to avoid an error.  \n",
    "\n",
    "\n",
    "Let's see a quick example.\n",
    "\n",
    "* Define a variable study_animal and assign it a Boolean value (True or False). Then write an `if` statement that checks if `study_animal` is `True` and has a placeholder for future code.\n"
   ]
  },
  {
   "cell_type": "code",
   "execution_count": null,
   "metadata": {
    "id": "QauryXJQV8Ls"
   },
   "outputs": [],
   "source": [
    "study_animal = False\n",
    "\n",
    "if study_animal:\n",
    "  pass"
   ]
  },
  {
   "cell_type": "markdown",
   "metadata": {
    "id": "mDIo_y0UWbJl"
   },
   "source": [
    "* Now modify your `if` statement to print one message if `study_animal` is `True`, and a different message if `study_animal` is `False`. Test with your condition being `True` and `False`."
   ]
  },
  {
   "cell_type": "code",
   "execution_count": null,
   "metadata": {
    "colab": {
     "base_uri": "https://localhost:8080/"
    },
    "id": "pMIHSN3ZMvnG",
    "outputId": "6188d767-0679-4e3b-b21e-f61511d38d6a"
   },
   "outputs": [
    {
     "name": "stdout",
     "output_type": "stream",
     "text": [
      "I will be printed in any case where study_animal is not true\n"
     ]
    }
   ],
   "source": [
    "if study_animal:\n",
    "  print('study_animal was True!')\n",
    "else:\n",
    "  print('I will be printed in any case where study_animal is not true')"
   ]
  },
  {
   "cell_type": "markdown",
   "metadata": {
    "id": "v7ahCp_UNfKw"
   },
   "source": [
    "Let's incorporate `elif` and a comparison syntax. You can put in as many `elif` statements as you want before you close off with an `else`. As soon as one conditional statement is met, the interpreter skips the rest of the statements.\n",
    "\n",
    "* Define a variable called `study_animal` and assign it the name of an animal as a string (choose from 'bat', 'frog', 'finch', or 'porpoise'). Then use an `if-elif-else` statement to check the value of `study_animal` and print a corresponding welcome message based on the animal:  \n",
    "   - `'bat'` → `\"Welcome to the Wind tunnel!\"`  \n",
    "   - `'frog'` → `\"Welcome to a tropical island!\"`  \n",
    "   - `'finch'` → `\"Welcome to SDU's basement!\"`  \n",
    "   - `'porpoise'` → `\"Welcome to Kerteminde!\"`  \n",
    "   - If the animal is not in the list, print `\"Where do you work?\"`"
   ]
  },
  {
   "cell_type": "code",
   "execution_count": null,
   "metadata": {
    "colab": {
     "base_uri": "https://localhost:8080/"
    },
    "id": "qy3F8PELNiOY",
    "outputId": "506a399e-4c59-4645-8fd9-f54fe2fb84a3"
   },
   "outputs": [
    {
     "name": "stdout",
     "output_type": "stream",
     "text": [
      "Welcome to a tropical island!\n"
     ]
    }
   ],
   "source": [
    "study_animal = 'frog'\n",
    "\n",
    "if study_animal == 'bat':\n",
    "    print('Welcome to the Wind tunnel!')\n",
    "elif study_animal == 'frog':\n",
    "    print('Welcome to a tropical island!')\n",
    "elif study_animal == 'finch':\n",
    "    print(\"Welcome to the SDU's basement!\")\n",
    "elif study_animal == 'porpoise':\n",
    "    print('Welcome to Kerteminde!')\n",
    "else:\n",
    "    print('Where do you work?')"
   ]
  },
  {
   "cell_type": "markdown",
   "metadata": {},
   "source": [
    "* If you want an ***additional challenge***, turn the code into a `match` statement."
   ]
  },
  {
   "cell_type": "markdown",
   "metadata": {
    "id": "pofQChch1CXx"
   },
   "source": [
    "### `for` loops\n",
    "\n",
    "\n",
    "A `for` loop is used for iterating over a sequence (i.e. a list, a tuple, a dictionary, a set, or a string), so that we can execute a set of statements, once for each item in the sequence.\n",
    "\n",
    "* Write a loop that iterates through the letters in the word \"Myotis\" and prints them out."
   ]
  },
  {
   "cell_type": "code",
   "execution_count": null,
   "metadata": {
    "id": "Zrif9keX2lW3"
   },
   "outputs": [],
   "source": [
    "for x in \"Myotis\":\n",
    "  print(x)"
   ]
  },
  {
   "cell_type": "markdown",
   "metadata": {
    "id": "SgOjVbuk29A5"
   },
   "source": [
    "*Side note:* Because string objects in Python are iterable, you can unpack them using the `*` operator. Try assigning `[*\"Python\"]` to a variable and printing it out."
   ]
  },
  {
   "cell_type": "code",
   "execution_count": null,
   "metadata": {
    "id": "6-Pu0rDh3pjn"
   },
   "outputs": [],
   "source": [
    "a = [*\"Python\"]\n",
    "print(a)"
   ]
  },
  {
   "cell_type": "markdown",
   "metadata": {
    "id": "M-QuJzaXPxlh"
   },
   "source": [
    "To loop over an iterable in reverse, feed it to the `reversed()` function (it returns an iterator that goes through the elements in reverse order).\n",
    "* Try it out with your Myotis loop."
   ]
  },
  {
   "cell_type": "code",
   "execution_count": null,
   "metadata": {
    "id": "U-iYsrUAQD4Q"
   },
   "outputs": [],
   "source": [
    "for x in reversed(\"Myotis\"):\n",
    "  print(x)"
   ]
  },
  {
   "cell_type": "markdown",
   "metadata": {
    "id": "B8O3xo0BJMk2"
   },
   "source": [
    "If you need a loop to run a specific number of times rather than iterating over an iterable object, use the [range function](https://python-reference.readthedocs.io/en/latest/docs/functions/range.html) to generate a sequence. `range` can take a single *stop* argument or be used with *(start, stop)* and *(start, stop, step)*.\n",
    "* Write a loop that prints every 5th number from 20 and 100."
   ]
  },
  {
   "cell_type": "code",
   "execution_count": null,
   "metadata": {
    "id": "J922PGhlLK-d"
   },
   "outputs": [],
   "source": [
    "for i in range(20,101,5):\n",
    "  print(i)"
   ]
  },
  {
   "cell_type": "markdown",
   "metadata": {
    "id": "yxHsioeJOS8R"
   },
   "source": [
    "*Side note:* `range` as input argument to the `list()` function can be used to quickly generate a list with a sequence of numbers. Try creating a list with numbers from 0 to 10."
   ]
  },
  {
   "cell_type": "code",
   "execution_count": null,
   "metadata": {
    "colab": {
     "base_uri": "https://localhost:8080/"
    },
    "id": "-gjSe47lOtm8",
    "outputId": "86900225-ffc5-4d31-d1ae-cfb16506b12d"
   },
   "outputs": [
    {
     "data": {
      "text/plain": [
       "[0, 1, 2, 3, 4, 5, 6, 7, 8, 9, 10]"
      ]
     },
     "execution_count": 9,
     "metadata": {},
     "output_type": "execute_result"
    }
   ],
   "source": [
    "list(range(11))"
   ]
  },
  {
   "cell_type": "markdown",
   "metadata": {
    "id": "0DZAcT89493_"
   },
   "source": [
    "You can exit a loop early using the `break` statement (see the `while` loop slide for syntax reminder).\n",
    "* Write a `for` loop that iterates through a `bats` list containing five elements: 'Myotis', 'Pipistrellus', 'Glossophaga', 'Noctilus', and 'Eptesicus'. The loop should print each element but stop when it encounters 'Glossophaga'. Try exiting after and before 'Glossophaga' is printed."
   ]
  },
  {
   "cell_type": "code",
   "execution_count": null,
   "metadata": {
    "colab": {
     "base_uri": "https://localhost:8080/"
    },
    "id": "9agNA-QB7tKr",
    "outputId": "d6f46058-b4a0-4305-f762-41ff14a92f28"
   },
   "outputs": [
    {
     "name": "stdout",
     "output_type": "stream",
     "text": [
      "Myotis\n",
      "Pipistrellus\n",
      "Glossophaga\n"
     ]
    }
   ],
   "source": [
    "bats = ['Myotis', 'Pipistrellus', 'Glossophaga', 'Noctilus', 'Eptesicus']\n",
    "for bat in bats:\n",
    "  print(bat)\n",
    "  if bat == \"Glossophaga\":\n",
    "    break"
   ]
  },
  {
   "cell_type": "code",
   "execution_count": null,
   "metadata": {
    "colab": {
     "base_uri": "https://localhost:8080/"
    },
    "id": "IriaARv18pC9",
    "outputId": "a8e4ee6a-9d59-4442-ec96-a292e24bf625"
   },
   "outputs": [
    {
     "name": "stdout",
     "output_type": "stream",
     "text": [
      "Myotis\n",
      "Pipistrellus\n"
     ]
    }
   ],
   "source": [
    "for bat in bats:\n",
    "  if bat == \"Glossophaga\":\n",
    "    break\n",
    "  print(bat)"
   ]
  },
  {
   "cell_type": "markdown",
   "metadata": {
    "id": "QTzAuozO8O7Q"
   },
   "source": [
    "With the `continue` statement we can stop the current iteration of the loop, and continue with the next (see `while` loop slide for syntax example).\n",
    "* Write a `for` loop that iterates from the `bats` list and prints all its elements except 'Glossophaga'."
   ]
  },
  {
   "cell_type": "code",
   "execution_count": null,
   "metadata": {
    "colab": {
     "base_uri": "https://localhost:8080/"
    },
    "id": "_eHbtokK92mQ",
    "outputId": "133e65de-af32-488b-80db-ef96d88a1063"
   },
   "outputs": [
    {
     "name": "stdout",
     "output_type": "stream",
     "text": [
      "Myotis\n",
      "Pipistrellus\n",
      "Noctilus\n",
      "Eptesicus\n"
     ]
    }
   ],
   "source": [
    "for bat in bats:\n",
    "  if bat == \"Glossophaga\":\n",
    "    continue\n",
    "  print(bat)"
   ]
  },
  {
   "cell_type": "markdown",
   "metadata": {
    "id": "HQWW6lBGawPB"
   },
   "source": [
    "To loop over a sequence in sorted order, pass it to the `sorted()` function (unlike the `.sort()` method, which modifies a list in place, `sorted()` returns a new sorted sequence while leaving the original unchanged).\n",
    "* Write a `for` loop that iterates over the `bats` list in alphabetical order."
   ]
  },
  {
   "cell_type": "code",
   "execution_count": null,
   "metadata": {
    "colab": {
     "base_uri": "https://localhost:8080/"
    },
    "id": "Dm_ASEV6b7DV",
    "outputId": "89109344-d615-47b7-b2d7-9838360dea29"
   },
   "outputs": [
    {
     "name": "stdout",
     "output_type": "stream",
     "text": [
      "Eptesicus\n",
      "Glossophaga\n",
      "Myotis\n",
      "Noctilus\n",
      "Pipistrellus\n"
     ]
    }
   ],
   "source": [
    "for bat in sorted(bats):\n",
    "  print(bat)"
   ]
  },
  {
   "cell_type": "markdown",
   "metadata": {
    "id": "meSfoWUBfmpG"
   },
   "source": [
    "Sometimes, you may want to iterate over only the unique items in a string, list, or tuple. In these cases, the `set()` function can help, as it converts the input to a `set` (which only allows unique items - see the slide on data structures).\n",
    "* Create a list with the elements 'Plecotus', 'Myotis', 'Eptesicus', and 'Vespertilio', and concatenate it with `bats` to form a new list called `more_bats`. Then, write a loop that prints the unique genus names from that list."
   ]
  },
  {
   "cell_type": "code",
   "execution_count": null,
   "metadata": {
    "colab": {
     "base_uri": "https://localhost:8080/"
    },
    "id": "XfRawGTGj8kp",
    "outputId": "b42c492d-10bd-4a4f-9277-e7352950ef27"
   },
   "outputs": [
    {
     "name": "stdout",
     "output_type": "stream",
     "text": [
      "['Myotis', 'Pipistrellus', 'Glossophaga', 'Noctilus', 'Eptesicus', 'Plecotus', 'Myotis', 'Eptesicus', 'Vespertilio']\n",
      "Vespertilio\n",
      "Pipistrellus\n",
      "Noctilus\n",
      "Plecotus\n",
      "Glossophaga\n",
      "Myotis\n",
      "Eptesicus\n"
     ]
    }
   ],
   "source": [
    "more_bats = bats + ['Plecotus', 'Myotis', 'Eptesicus', 'Vespertilio']\n",
    "print(more_bats)\n",
    "\n",
    "for bat in set(more_bats):\n",
    "  print(bat)"
   ]
  },
  {
   "cell_type": "markdown",
   "metadata": {
    "id": "wyze04W6-TIc"
   },
   "source": [
    "`for` loops cannot be empty, but if you for some reason have a for loop with no content, put in the `pass` statement to avoid getting an error.\n",
    " * Try iterating over your `bats` list with a loop that does nothing."
   ]
  },
  {
   "cell_type": "code",
   "execution_count": null,
   "metadata": {
    "id": "SOTFJYlhDkoa"
   },
   "outputs": [],
   "source": [
    "for bat in bats:\n",
    "  pass"
   ]
  },
  {
   "cell_type": "markdown",
   "metadata": {
    "id": "EAKLW_0VHKQh"
   },
   "source": [
    "When looping through a sequence, the position index and corresponding value can be retrieved at the same time using the `enumerate()` function.\n",
    "* Write a loop that iterates through the `bats` list and prints each element along with its index."
   ]
  },
  {
   "cell_type": "code",
   "execution_count": null,
   "metadata": {
    "colab": {
     "base_uri": "https://localhost:8080/"
    },
    "id": "Oq3VuDnpHwWs",
    "outputId": "115b2d3a-fdd9-4fea-e7f9-4739b5381661"
   },
   "outputs": [
    {
     "name": "stdout",
     "output_type": "stream",
     "text": [
      "Myotis 0\n",
      "Pipistrellus 1\n",
      "Glossophaga 2\n",
      "Noctilus 3\n",
      "Eptesicus 4\n"
     ]
    }
   ],
   "source": [
    "for ix, bat in enumerate(bats):\n",
    "  print(bat, ix)"
   ]
  },
  {
   "cell_type": "markdown",
   "metadata": {
    "id": "HhAFahIIIbEm"
   },
   "source": [
    "When looping through a dictionary, you can retrieve both the key and its corresponding value using the `.items()` method. This method returns key-value pairs in an iterable set-like object (see the dictionary section above), which can be unpacked in a loop using syntax similar to `enumerate()`.\n",
    "* Create a dictionary called `genus_species` with the key-value pairs 'Myotis': 'daubentonii', 'Eptesicus': 'serotinus' and 'Pipistrellus': 'pygmaeus'. Then, use a `for` loop to print each full species name one by one. Recall that `keys` need to be unique within a single dictionary. Try adding 'Myotis': 'nattereri' to your dictionary and see what happens."
   ]
  },
  {
   "cell_type": "code",
   "execution_count": null,
   "metadata": {
    "colab": {
     "base_uri": "https://localhost:8080/"
    },
    "id": "d2DoRgWEIcFy",
    "outputId": "17b40ff3-4d9d-44fe-81d8-d398751805d1"
   },
   "outputs": [
    {
     "name": "stdout",
     "output_type": "stream",
     "text": [
      "Myotis daubentonii\n",
      "Eptesicus serotinus\n",
      "Pipistrellus pygmaeus\n"
     ]
    }
   ],
   "source": [
    "genus_species = {'Myotis': 'daubentonii', 'Eptesicus': 'serotinus', 'Pipistrellus': 'pygmaeus'}\n",
    "\n",
    "for key, value in genus_species.items():\n",
    "    print(key, value)"
   ]
  },
  {
   "cell_type": "code",
   "execution_count": null,
   "metadata": {
    "colab": {
     "base_uri": "https://localhost:8080/"
    },
    "id": "jdkS4Ii2Y3My",
    "outputId": "f34467e3-4078-4cab-82b4-aa62f5dcd27b"
   },
   "outputs": [
    {
     "data": {
      "text/plain": [
       "{'Myotis': 'nattereri', 'Eptesicus': 'serotinus', 'Pipistrellus': 'pygmaeus'}"
      ]
     },
     "execution_count": 14,
     "metadata": {},
     "output_type": "execute_result"
    }
   ],
   "source": [
    "genus_species = {'Myotis': 'daubentonii', 'Eptesicus': 'serotinus', 'Pipistrellus': 'pygmaeus', 'Myotis': 'nattereri'}\n",
    "genus_species"
   ]
  },
  {
   "cell_type": "markdown",
   "metadata": {
    "id": "IJKLamqYpG2_"
   },
   "source": [
    "To loop over two or more sequences at the same time, you can use the `zip()` function. This function returns a `zip` object, which is an iterator of `tuples` where the first item in each passed iterable is paired together, the second items are paired together, and so on. If the iterables have different lengths, `zip()` stops at the shortest one. Elements from each sequence can be extracted within the loop using syntax similar to `enumerate()` (see the `for` loops slide for an example).\n",
    "\n",
    "* Create two lists:\n",
    "  1. `questions`, containing the `strings` 'name', 'quest' and 'favorite color'\n",
    "  2. `answers`, containing the `strings` 'lancelot', 'the holy grail' and 'blue'\n",
    "\n",
    "  Then, use a `for` loop with `zip()` to iterate over both lists at the same time and print each question along with its corresponding answer in the format:\n",
    "\n",
    "    `What is your <question>? It is <answer>.`"
   ]
  },
  {
   "cell_type": "code",
   "execution_count": null,
   "metadata": {
    "id": "yu5temAr0dxV"
   },
   "outputs": [],
   "source": [
    "questions = ['name', 'quest', 'favorite color']\n",
    "answers = ['lancelot', 'the holy grail', 'blue']\n",
    "\n",
    "for q, a in zip(questions, answers):\n",
    "    print(f'What is your {q}?  It is {a}.')"
   ]
  },
  {
   "cell_type": "markdown",
   "metadata": {
    "id": "zToNzgkn8_Pz"
   },
   "source": [
    "### `while` loops - work in progress\n",
    "\n",
    "With the `while` loop we can execute a set of statements as long as a condition is true."
   ]
  },
  {
   "cell_type": "markdown",
   "metadata": {
    "id": "Ha-_GoiC9m6J"
   },
   "source": [
    "Like in `for` loops, with the `break` statement we can stop the loop even if the while condition is true, and with the `continue` statement we can stop the current iteration, and continue with the next."
   ]
  },
  {
   "cell_type": "markdown",
   "metadata": {
    "id": "lYJDFIcREQUt"
   },
   "source": [
    "## Functions\n",
    "\n",
    "Now that you've mastered Python formatting, data structures, and statements, let's put that knowledge to good use by writing some  functions! \n",
    ">*If you need a refresher on function syntax, refer to the **Functions** slides.*\n",
    "\n",
    "Let's start with a simple function that prints a string.\n",
    "\n",
    "* Write a function called `say_hello` that prints the string `'Hello, World!'`."
   ]
  },
  {
   "cell_type": "code",
   "execution_count": null,
   "metadata": {
    "id": "s87mHFU8E6Bo"
   },
   "outputs": [],
   "source": [
    "def say_hello():\n",
    "    print(\"Hello, World!\")"
   ]
  },
  {
   "cell_type": "markdown",
   "metadata": {
    "id": "l0uYpdAFC8Z3"
   },
   "source": [
    "Now, execute (call) the function to verify that it works by running: `say_hello()`. The parentheses `()` at the end are required to call the function. Without them, Python will return the function object instead of executing it. Try it out!"
   ]
  },
  {
   "cell_type": "code",
   "execution_count": null,
   "metadata": {
    "colab": {
     "base_uri": "https://localhost:8080/"
    },
    "id": "13KkQsUjE9hT",
    "outputId": "78501600-8ba3-40b9-fd7b-e2af2490bf84"
   },
   "outputs": [
    {
     "name": "stdout",
     "output_type": "stream",
     "text": [
      "Hello, World!\n"
     ]
    }
   ],
   "source": [
    "# Check\n",
    "say_hello()"
   ]
  },
  {
   "cell_type": "markdown",
   "metadata": {
    "id": "6qIjq6EEFQF_"
   },
   "source": [
    "Let's overwrite that function with one that accepts input arguments.\n",
    "\n",
    "* Define a function called `say_hello` that takes in a *required* argument `name`, and prints `'Hello, Name'` to the terminal or output cell. Again, verify its functionality by calling it. Try calling the function with `'Name'` entered as a positional argument, and as a keyword argument (refer to the Functions slides, if needed).\n"
   ]
  },
  {
   "cell_type": "code",
   "execution_count": null,
   "metadata": {
    "colab": {
     "base_uri": "https://localhost:8080/"
    },
    "id": "xM0spb9XFaQ3",
    "outputId": "6f69b6c7-ea6a-4c0a-ec4d-f0122711e590"
   },
   "outputs": [
    {
     "name": "stdout",
     "output_type": "stream",
     "text": [
      "Hello, Jakob\n"
     ]
    }
   ],
   "source": [
    "def say_hello(name):\n",
    "    print(f\"Hello, {name}\")\n",
    "\n",
    "# Check\n",
    "say_hello('Jakob')\n",
    "say_hello(name='Jakob')"
   ]
  },
  {
   "cell_type": "markdown",
   "metadata": {
    "id": "y3f5dNd3vGIp"
   },
   "source": [
    "Note that running `say_hello()` will now throw an error."
   ]
  },
  {
   "cell_type": "code",
   "execution_count": null,
   "metadata": {
    "id": "CYOj1oMsvnjv"
   },
   "outputs": [],
   "source": [
    "say_hello()"
   ]
  },
  {
   "cell_type": "markdown",
   "metadata": {
    "id": "Y0MXM_f6F2h8"
   },
   "source": [
    "* Modify your `say_hello` function, so that it takes an *optional* argument `name`. Set the default value of `name` to `'Felix'`. Try calling the function with `'Name'` (entered as a positional or a keyword argument) and with no inputs.\n"
   ]
  },
  {
   "cell_type": "code",
   "execution_count": null,
   "metadata": {
    "colab": {
     "base_uri": "https://localhost:8080/"
    },
    "id": "kb5M-WDEGwp1",
    "outputId": "5cf82932-436a-49bd-877e-13ac17b4ae0b"
   },
   "outputs": [
    {
     "name": "stdout",
     "output_type": "stream",
     "text": [
      "Hello, Jakob\n",
      "Hello, Felix\n"
     ]
    }
   ],
   "source": [
    "def say_hello(name='Felix'):\n",
    "    print(f\"Hello, {name}\")\n",
    "\n",
    "# Check\n",
    "say_hello('Jakob') # name provided\n",
    "say_hello() # default value"
   ]
  },
  {
   "cell_type": "markdown",
   "metadata": {
    "id": "lMrLnlumHBlO"
   },
   "source": [
    "So far, the functions you’ve written have printed outputs to the terminal but have not *returned* any values. Now, you'll create a few functions that explicitly return a result.\n",
    "* Write a function called `check_even` that takes in a single argument, and returns `True` if the passed-in value is even, `False` if it is not. Verify the function by evaluating whether 2 and 3 are even?\n",
    "\n",
    "  Should the argument be required or optional?"
   ]
  },
  {
   "cell_type": "code",
   "execution_count": null,
   "metadata": {
    "id": "kRLWl3k2HL93"
   },
   "outputs": [],
   "source": [
    "def check_even(num):\n",
    "    return num % 2 == 0\n",
    "\n",
    "# Check\n",
    "check_even(2)\n",
    "check_even(3)"
   ]
  },
  {
   "cell_type": "markdown",
   "metadata": {
    "id": "58P-xLooHu4J"
   },
   "source": [
    "* Define a function called `check_even_list` that takes a list of numbers as an argument. The function should return `True` if the list contains at least one even number; otherwise, it should return `False`.\n",
    "\n",
    "  ***Example Cases***\n",
    "  - `check_even_list([21, 5, 90, 256])` → should return `True`   \n",
    "  - `check_even_list([21, 5])` → should return `False`"
   ]
  },
  {
   "cell_type": "code",
   "execution_count": null,
   "metadata": {
    "id": "QUJBSHunH6rZ"
   },
   "outputs": [],
   "source": [
    "def check_even_list(num_list):\n",
    "\n",
    "    for number in num_list:\n",
    "        if number % 2 == 0:\n",
    "            return True\n",
    "        else:\n",
    "            pass\n",
    "\n",
    "    return False\n",
    "\n",
    "# Check\n",
    "check_even_list([21,5,90,256])\n",
    "check_even_list([21,5])"
   ]
  },
  {
   "cell_type": "markdown",
   "metadata": {
    "id": "BnsXNohaIa5Z"
   },
   "source": [
    "* Define a function called `pick_even_list` that takes in a list of numbers, and returns all even numbers inside that list.\n",
    "  \n",
    "  `pick_even_list([21, 5, 90, 256])` → should return `[90, 256]`\n"
   ]
  },
  {
   "cell_type": "code",
   "execution_count": null,
   "metadata": {
    "id": "QFjUEbkqIe4G"
   },
   "outputs": [],
   "source": [
    "def pick_even_list(num_list):\n",
    "    even_numbers = []\n",
    "    for number in num_list:\n",
    "        if number % 2 == 0:\n",
    "            even_numbers.append(number)\n",
    "        else:\n",
    "            pass\n",
    "    return even_numbers\n",
    "\n",
    "# Check\n",
    "pick_even_list([21,5,90,256])"
   ]
  },
  {
   "cell_type": "markdown",
   "metadata": {
    "id": "K6MqVf6GS4Dj"
   },
   "source": [
    "* Write a function called `lesser_of_two_evens` that returns the lesser of two given numbers if both numbers are even, but returns the greater if one or both numbers are odd.\n",
    "\n",
    "  ***Example Cases***\n",
    "  - `lesser_of_two_evens(2, 4)` → should return 2   \n",
    "  - `lesser_of_two_evens(2, 3)` → should return 3  \n",
    "\n"
   ]
  },
  {
   "cell_type": "code",
   "execution_count": null,
   "metadata": {
    "id": "YNndVz4rTNQX"
   },
   "outputs": [],
   "source": [
    "def lesser_of_two_evens(a,b):\n",
    "    if (a % 2 == 0) and (b % 2 == 0):\n",
    "        return min(a,b)\n",
    "    else:\n",
    "        return max(a,b)\n",
    "# Check\n",
    "lesser_of_two_evens(2,4)\n",
    "# Check\n",
    "lesser_of_two_evens(2,3)"
   ]
  },
  {
   "cell_type": "markdown",
   "metadata": {
    "id": "vvfQ2ZtJI_Rp"
   },
   "source": [
    "### Variable number of input arguments (`*args`)\n",
    "\n",
    "* Define a function called `count_and_add` that accepts an arbitrary number of *positional* arguments, and returns the count of the arguments and their sum (if in doubt about syntax, see slides on functions with multiple inputs and outputs).\n",
    "\n",
    "    If the function's output is assigned to a single variable, it will be a `tuple` containing both values. Since the number of outputs is known to you, you can unpack (extract) them when calling the function.\n",
    "\n",
    "  ***Example Cases***\n",
    "\n",
    "  * `connect_and_add([20, 90, 256])` → should return `(3,366)`\n",
    "  * `count, total = count_and_add(20,90,256)` → should return `count` of 3 and `total` of 366\n"
   ]
  },
  {
   "cell_type": "code",
   "execution_count": null,
   "metadata": {
    "colab": {
     "base_uri": "https://localhost:8080/"
    },
    "id": "niJ_3WtFJrYK",
    "outputId": "003347fd-f4b9-4f30-9e94-52730d26fc7f"
   },
   "outputs": [
    {
     "name": "stdout",
     "output_type": "stream",
     "text": [
      "3\n",
      "366\n",
      "366\n"
     ]
    }
   ],
   "source": [
    "def count_and_add(*args):\n",
    "    return len(args), sum(args)\n",
    "\n",
    "# Check\n",
    "count_and_add(20,90,256)\n",
    "count, total = count_and_add(20,90,256)\n",
    "print(count)\n",
    "print(total)"
   ]
  },
  {
   "cell_type": "markdown",
   "metadata": {
    "id": "t2-3MbrgV9d3"
   },
   "source": [
    "***Tip***: If you're only interested in one of the returned values, you can directly index the function call to extract the specific output.\n",
    "\n",
    "For example, if you only need the sum of the arguments, you can call:\n",
    "`count_and_add(*args)[1]`\n",
    "\n",
    "Try it out!"
   ]
  },
  {
   "cell_type": "code",
   "execution_count": null,
   "metadata": {
    "id": "sjAEjrsdZ9pz"
   },
   "outputs": [],
   "source": [
    "count_and_add(20,90,256)[1]"
   ]
  },
  {
   "cell_type": "markdown",
   "metadata": {
    "id": "S2Ya2ZPfJ2t5"
   },
   "source": [
    "Now, let's combine *args, loops, and conditionals (and optionally, *list unpacking when calling the function).\n",
    "* Define a function called `pick_evens` that takes in an arbitrary number of positional arguments, and returns a list containing only those arguments that are even.\n",
    "\n",
    "  ***Example Cases***\n",
    "  - `pick_evens(3, 10, 7, 8, 21, 24)` → should return `[10, 8, 24]`   \n",
    "  - `pick_evens(1, 5, 9)` → should return `[]`"
   ]
  },
  {
   "cell_type": "code",
   "execution_count": null,
   "metadata": {
    "id": "dVzTrXB2J6fX"
   },
   "outputs": [],
   "source": [
    "def pick_evens(*args):\n",
    "    even_numbers = []\n",
    "    for num in args:\n",
    "        if num % 2 == 0:\n",
    "            even_numbers.append(num)\n",
    "\n",
    "    return even_numbers\n",
    "\n",
    "#check\n",
    "pick_evens(21,5,90,256)"
   ]
  },
  {
   "cell_type": "markdown",
   "metadata": {
    "id": "7l0U_Gb0KLnk"
   },
   "source": [
    "### Anonymous functions (i.e. `lambda` expressions)\n",
    "\n",
    "Lambda expressions are small, anonymous functions that can take any number of arguments, but must consist of a single expression. They are commonly used within other functions, especially in `map()` and `filter()`. \n",
    "\n",
    "If you need a refresher, refer to the the ***Functions*** slides for guidance on their usage, syntax and converting `def` functions into `lambda` expressions.\n",
    "\n",
    "You can also find more examples [here](https://www.w3schools.com/python/python_lambda.asp) and [here](https://www.geeksforgeeks.org/python-lambda-anonymous-functions-filter-map-reduce/).\n",
    "\n",
    "* Define a function called `spherical_loss` that returns transmission loss due to spherical spreading for a given range `r`.\n",
    "* Then, convert this function into an equivalent `lambda` expression, and use the `map` function to apply it to a list of ranges. The output should be a `list` of computed transmission losses.\n",
    ">***Tip***: check the ***Anonymous functions*** slide for an example of `map`'s syntax, usage and casting.\n",
    "\n",
    "Since Python does not have a built-in `log10` function, the necessary import is already included in the code cell:\n",
    "`from math import log10`\n",
    "\n",
    "`map` is a built-in function, so no additional imports are needed. \n",
    "\n",
    "You can use the `help(map)` function or read more about map [here](https://www.geeksforgeeks.org/python-map-function/)."
   ]
  },
  {
   "cell_type": "code",
   "execution_count": null,
   "metadata": {
    "colab": {
     "base_uri": "https://localhost:8080/"
    },
    "id": "eqao_4GPK6lX",
    "outputId": "9ab8c895-6fc1-4063-8634-38b1f35f8440"
   },
   "outputs": [
    {
     "data": {
      "text/plain": [
       "6.020599913279624"
      ]
     },
     "execution_count": 52,
     "metadata": {},
     "output_type": "execute_result"
    }
   ],
   "source": [
    "from math import log10\n",
    "\n",
    "def spherical_loss(r):\n",
    "    return 20*log10(r)\n",
    "\n",
    "# Check\n",
    "spherical_loss(2)"
   ]
  },
  {
   "cell_type": "code",
   "execution_count": null,
   "metadata": {
    "id": "Ga0_4m82szhJ"
   },
   "outputs": [],
   "source": [
    "ranges = [2, 3, 5, 10, 100]\n",
    "t_losses = list(map(lambda r: 20*log10(r), ranges))\n",
    "print(t_losses)"
   ]
  },
  {
   "cell_type": "markdown",
   "metadata": {
    "id": "x6z-kWa1Lu5Z"
   },
   "source": [
    "### Utilizing `string` methods\n",
    "\n",
    "Like `lists` and `dictionaries`, Python `strings` have built-in methods that provide useful functionality. You'll now use some of them inside your functions to modify text.\n",
    "\n",
    "The full list of `string` methods can be found [here](https://docs.python.org/3/library/stdtypes.html#string-methods).\n",
    "\n",
    "\n",
    "* Define a function called `jitter_string` that takes in a `string`, and returns a new `string` where every even letter is uppercase, and every odd letter is lowercase.\n",
    "\n",
    "Assume that the incoming string only contains letters, and don't worry about numbers, spaces or punctuation. The output string can start with either an uppercase or lowercase letter, as long as pattern alternates correctly.\n",
    "\n",
    "  ***Example Case***\n",
    "\n",
    "     `jitter_string('Anthropomorphism')` → should return `aNtHrOpOmOrPhIsM`  \n",
    "\n",
    "***Tip***: you may find the `string` methods `.lower()` and `.upper()` helpful here."
   ]
  },
  {
   "cell_type": "code",
   "execution_count": null,
   "metadata": {
    "id": "7tdsIACCML-i"
   },
   "outputs": [],
   "source": [
    "# help(str.lower)\n",
    "# help(str.upper)\n",
    "\n",
    "def jitter_string(my_string):\n",
    "\n",
    "    new_string = ''\n",
    "    for ix, s in enumerate(my_string):\n",
    "        if ix % 2 == 0:\n",
    "            new_string += s.lower()\n",
    "        else:\n",
    "            new_string += s.upper()\n",
    "\n",
    "    return new_string\n",
    "\n",
    "# Check\n",
    "jitter_string('Anthropomorphism')"
   ]
  },
  {
   "cell_type": "markdown",
   "metadata": {
    "id": "-G-x-q2wMrvR"
   },
   "source": [
    "* Define a function called `master_yoda` that takes a sentence as input and returns a new sentence with the words in reverse order.\n",
    "\n",
    "  ***Example Cases***\n",
    "  - `master_yoda('I am home')` → should return `'home am I'`   \n",
    "  - `master_yoda('We are ready')` → should return `ready are We`\n",
    "\n",
    "  ***Tip***: slicing and the `string` methods `.split()` and `.join()` will be useful here.\n"
   ]
  },
  {
   "cell_type": "code",
   "execution_count": null,
   "metadata": {
    "id": "cJELc3_7xagn"
   },
   "outputs": [],
   "source": [
    "# help(str.join)\n",
    "# help(str.split)\n",
    "\n",
    "def master_yoda(text):\n",
    "    return ' '.join(text.split(' ')[::-1])\n",
    "\n",
    "# Check\n",
    "print(master_yoda('I am home'))\n",
    "print(master_yoda('We are ready'))"
   ]
  },
  {
   "cell_type": "markdown",
   "metadata": {
    "id": "JsnuC7AJxuHC"
   },
   "source": [
    "* If you want an ***additional challenge***, adjust the output so that the first word is capitalized and the rest are in lowercase. \n",
    "\n",
    "  ***Tip***: String indexing and methods like `.lower()`,`.capitalize()` or `.upper()` may come in handy here."
   ]
  },
  {
   "cell_type": "code",
   "execution_count": null,
   "metadata": {
    "colab": {
     "base_uri": "https://localhost:8080/"
    },
    "id": "d4byVbD2NCVw",
    "outputId": "3404a276-501c-4698-ea7a-033ae9b317b7"
   },
   "outputs": [
    {
     "name": "stdout",
     "output_type": "stream",
     "text": [
      "Home am i\n",
      "Ready are we\n"
     ]
    }
   ],
   "source": [
    "def master_yoda(text):\n",
    "    sp = text.split(' ')[::-1]\n",
    "    sp[0] = sp[0].capitalize()\n",
    "    sp[-1] = sp[-1].lower()\n",
    "    return ' '.join(sp)\n",
    "\n",
    "# Check\n",
    "print(master_yoda('I am home'))\n",
    "print(master_yoda('We are ready'))"
   ]
  },
  {
   "cell_type": "markdown",
   "metadata": {
    "id": "xc9osi5WiLVY"
   },
   "source": [
    "## Classes\n",
    "\n",
    "Classes provide a means of bundling data and functionality together. Creating a new class creates a new type of object, allowing new instances of that type to be made. Each class instance can have attributes attached to it for maintaining its state. Class instances can also have methods (defined by its class) for modifying its state.\n",
    "\n",
    "Classes are outside of the scope of this workshop. However we will give you some intuitive understanding for classes by implementing and running the examples from the slides. If you are interested to learn more about classes in Python you can follow [here](https://docs.python.org/3/tutorial/classes.html).\n",
    "\n"
   ]
  },
  {
   "cell_type": "code",
   "execution_count": null,
   "metadata": {
    "id": "-D6jNkHTjgrH"
   },
   "outputs": [],
   "source": [
    "class MyClass:\n",
    "        a = 17\n",
    "\n",
    "        def __init__(self, name, x = 5):\n",
    "            self.name = name\n",
    "            self.x = x\n",
    "\n",
    "        def add_to_x(self, y):\n",
    "            self.x += y\n",
    "\n",
    "        def my_name_is(self):\n",
    "            print(f\"{self.name}\")\n",
    "\n",
    "        def x_is(self):\n",
    "            print(f\"{self.x}\")"
   ]
  },
  {
   "cell_type": "markdown",
   "metadata": {
    "id": "Sb4SfISyjqDh"
   },
   "source": [
    "The code above implements a class called `MyClass` which has 3 methods `add_to_x`, `my_name_is` and `x_is` and an initialization `__init__` method implemented. You can create objects of this class, so-called instances by assigning a variable the type MyClass and the respective required arguments."
   ]
  },
  {
   "cell_type": "code",
   "execution_count": null,
   "metadata": {
    "colab": {
     "base_uri": "https://localhost:8080/",
     "height": 193
    },
    "id": "1a7pPgGJjpws",
    "outputId": "f371a28f-1b1e-46f2-ccf2-1925f408acba"
   },
   "outputs": [
    {
     "ename": "TypeError",
     "evalue": "MyClass.__init__() missing 1 required positional argument: 'name'",
     "output_type": "error",
     "traceback": [
      "\u001b[0;31m---------------------------------------------------------------------------\u001b[0m",
      "\u001b[0;31mTypeError\u001b[0m                                 Traceback (most recent call last)",
      "\u001b[0;32m<ipython-input-67-6d8a434db48f>\u001b[0m in \u001b[0;36m<cell line: 0>\u001b[0;34m()\u001b[0m\n\u001b[1;32m      1\u001b[0m \u001b[0mA\u001b[0m \u001b[0;34m=\u001b[0m \u001b[0mMyClass\u001b[0m\u001b[0;34m(\u001b[0m\u001b[0;34m\"A\"\u001b[0m\u001b[0;34m)\u001b[0m\u001b[0;34m\u001b[0m\u001b[0;34m\u001b[0m\u001b[0m\n\u001b[1;32m      2\u001b[0m \u001b[0mB\u001b[0m \u001b[0;34m=\u001b[0m \u001b[0mMyClass\u001b[0m\u001b[0;34m(\u001b[0m\u001b[0;34m\"nobody\"\u001b[0m\u001b[0;34m,\u001b[0m\u001b[0;36m95\u001b[0m\u001b[0;34m)\u001b[0m\u001b[0;34m\u001b[0m\u001b[0;34m\u001b[0m\u001b[0m\n\u001b[0;32m----> 3\u001b[0;31m \u001b[0mC\u001b[0m \u001b[0;34m=\u001b[0m \u001b[0mMyClass\u001b[0m\u001b[0;34m(\u001b[0m\u001b[0;34m)\u001b[0m\u001b[0;34m\u001b[0m\u001b[0;34m\u001b[0m\u001b[0m\n\u001b[0m\u001b[1;32m      4\u001b[0m \u001b[0;34m\u001b[0m\u001b[0m\n",
      "\u001b[0;31mTypeError\u001b[0m: MyClass.__init__() missing 1 required positional argument: 'name'"
     ]
    }
   ],
   "source": [
    "A = MyClass(\"A\")\n",
    "B = MyClass(\"nobody\",95)\n",
    "C = MyClass()\n"
   ]
  },
  {
   "cell_type": "markdown",
   "metadata": {
    "id": "Wvd2m5PWk8nx"
   },
   "source": [
    "The instances `A` were nicely `B` instantiated. `C` failed because it was missing the `name` argument upon assignment.\n",
    "\n",
    "You can now modify or interact with the instances by running their methods as shown below."
   ]
  },
  {
   "cell_type": "code",
   "execution_count": null,
   "metadata": {
    "colab": {
     "base_uri": "https://localhost:8080/"
    },
    "id": "3oSdvIEak6tM",
    "outputId": "40084806-3b36-47d6-b39f-e6ec05439bf4"
   },
   "outputs": [
    {
     "name": "stdout",
     "output_type": "stream",
     "text": [
      "5\n",
      "12\n",
      "A\n",
      "95\n",
      "102\n",
      "nobody\n"
     ]
    }
   ],
   "source": [
    "A.x_is()\n",
    "A.add_to_x(7)\n",
    "A.x_is()\n",
    "A.my_name_is()\n",
    "\n",
    "B.x_is()\n",
    "B.add_to_x(7)\n",
    "B.x_is()\n",
    "B.my_name_is()"
   ]
  }
 ],
 "metadata": {
  "colab": {
   "provenance": [],
   "toc_visible": true
  },
  "kernelspec": {
   "display_name": "Python 3 (ipykernel)",
   "language": "python",
   "name": "python3"
  },
  "language_info": {
   "codemirror_mode": {
    "name": "ipython",
    "version": 3
   },
   "file_extension": ".py",
   "mimetype": "text/x-python",
   "name": "python",
   "nbconvert_exporter": "python",
   "pygments_lexer": "ipython3",
   "version": "3.12.2"
  }
 },
 "nbformat": 4,
 "nbformat_minor": 4
}
