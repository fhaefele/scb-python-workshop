











if 5 > 2:
 print("Five is greater than two!")

if 5 > 2:
 print("Five is greater than two!")


if 5 > 2:
 print("Five is greater than two!")

if 5 > 2:
    	print("Five is greater than two!")

if 5 < 2:
 print('abc')
 else:
    print('wow')





x = "5"
y = "Hello, world!"
z = 5.0
abc = int(19.5)
this_is_a_variable = 1+5j
z += 5
z2 = z + abc






print(dir())





help(print)


print(x,y,z,abc,this_is_a_variable,z2,sep='>----<')






#1
print(f"{x}, {y}, {z}")

#2
print(f"{z=:05}")

#3
print(f"{abc:.3f}")








my_list = [10, 20, "GfG", 40, True]





print(f"{my_list=} has a length of {len(my_list)}")

print('first', my_list[0])
print('last', my_list[-1])





my_list[1] *= 3.7

my_list_rev = my_list[::-1]
print(my_list_rev)


my_numbers = my_list[0:2]+[my_list[3]]
print(my_numbers)

my_numbers = my_list[0:2]
my_numbers.append(my_list[3])
print(my_numbers)

my_list.append(5555)
my_list.append(5555)
my_list.append(5555)
my_list.append(5555)
print(my_list)





my_list_copied = my_list.copy()
my_list_copied2 = my_list.copy()

my_list.append(my_list_rev)
my_list_copied.extend(my_list_rev)
print(my_list)
print(my_list_copied)

# merging 2 lists with an unpacking operator
my_merged_list = [*my_list_copied, *my_list_rev]
print(my_merged_list)

print(*my_list_copied)





short_list = [10, 20, 30]
a, b, c = short_list
print(a)
print(b)
print(c)

# extract list body with unpacking operator
my_list
a, *b, c = my_list

print(a)
print(b)
print(c)





help(list.insert)

my_list_rev.insert(4,False)
print(my_list_rev)





t1 = ()
t2 = (1,)
t3 = 1,2,3,4
t4 = 0,1,2,3,4,5,6
not_a_tuple = (1)
print(type(not_a_tuple))





t31,t32, t31, t32 = t3

_,_,t31,_ = t3

t4_unpacked = [*t4]
print(t4_unpacked)








my_dict = {'key1':123, 'key2':'abc', 'key3':[1,2,3], 'key4':True, 'key5':{'insideKey':100}}
my_dict





my_dict.keys()


my_dict.values()


my_dict.items()





my_dict['key3'][2]





my_dict['key2'].upper()[1]





my_dict['key5']['insideKey'] -= 40
my_dict





bat_weights_g = {}


bat_weights_g['dau'] = 7
bat_weights_g['nat'] = 8
bat_weights_g['pyg'] = 5
bat_weights_g





dict([('dau',7), ('nat',8), ('pyg',5)])





dict(dau=7, nat=8, pyg=5)





bat_weights_g.pop('pyg')
bat_weights_g


bat_weights_g['pyg'] = 5
bat_weights_g


del bat_weights_g['pyg']
bat_weights_g





{**my_dict, **bat_weights_g}











string1, string2, string3 = '', 'bat', 'frog'
non_null = string1 or string2 or string3
print(non_null)





study_animal = False

if study_animal:
  pass





if study_animal:
  print('study_animal was True!')
else:
  print('I will be printed in any case where study_animal is not true')





study_animal = 'frog'

if study_animal == 'bat':
    print('Welcome to the Wind tunnel!')
elif study_animal == 'frog':
    print('Welcome to a tropical island!')
elif study_animal == 'finch':
    print("Welcome to the SDU's basement!")
elif study_animal == 'porpoise':
    print('Welcome to Kerteminde!')
else:
    print('Where do you work?')








for x in "Myotis":
  print(x)





a = [*"Python"]
print(a)





for x in reversed("Myotis"):
  print(x)





for i in range(20,101,5):
  print(i)





list(range(11))





bats = ['Myotis', 'Pipistrellus', 'Glossophaga', 'Noctilus', 'Eptesicus']
for bat in bats:
  print(bat)
  if bat == "Glossophaga":
    break


for bat in bats:
  if bat == "Glossophaga":
    break
  print(bat)





for bat in bats:
  if bat == "Glossophaga":
    continue
  print(bat)





for bat in sorted(bats):
  print(bat)





more_bats = bats + ['Plecotus', 'Myotis', 'Eptesicus', 'Vespertilio']
print(more_bats)

for bat in set(more_bats):
  print(bat)





for bat in bats:
  pass





for ix, bat in enumerate(bats):
  print(bat, ix)





genus_species = {'Myotis': 'daubentonii', 'Eptesicus': 'serotinus', 'Pipistrellus': 'pygmaeus'}

for key, value in genus_species.items():
    print(key, value)


genus_species = {'Myotis': 'daubentonii', 'Eptesicus': 'serotinus', 'Pipistrellus': 'pygmaeus', 'Myotis': 'nattereri'}
genus_species





questions = ['name', 'quest', 'favorite color']
answers = ['lancelot', 'the holy grail', 'blue']

for q, a in zip(questions, answers):
    print(f'What is your {q}?  It is {a}.')











def say_hello():
    print("Hello, World!")





# Check
say_hello()





def say_hello(name):
    print(f"Hello, {name}")

# Check
say_hello('Jakob')
say_hello(name='Jakob')





say_hello()





def say_hello(name='Felix'):
    print(f"Hello, {name}")

# Check
say_hello('Jakob') # name provided
say_hello() # default value





def check_even(num):
    return num % 2 == 0

# Check
check_even(2)
check_even(3)





def check_even_list(num_list):

    for number in num_list:
        if number % 2 == 0:
            return True
        else:
            pass

    return False

# Check
check_even_list([21,5,90,256])
check_even_list([21,5])





def pick_even_list(num_list):
    even_numbers = []
    for number in num_list:
        if number % 2 == 0:
            even_numbers.append(number)
        else:
            pass
    return even_numbers

# Check
pick_even_list([21,5,90,256])





def lesser_of_two_evens(a,b):
    if (a % 2 == 0) and (b % 2 == 0):
        return min(a,b)
    else:
        return max(a,b)
# Check
lesser_of_two_evens(2,4)
# Check
lesser_of_two_evens(2,3)





def count_and_add(*args):
    return len(args), sum(args)

# Check
count_and_add(20,90,256)
count, total = count_and_add(20,90,256)
print(count)
print(total)





count_and_add(20,90,256)[1]





def pick_evens(*args):
    even_numbers = []
    for num in args:
        if num % 2 == 0:
            even_numbers.append(num)

    return even_numbers

#check
pick_evens(21,5,90,256)





from math import log10

def spherical_loss(r):
    return 20*log10(r)

# Check
spherical_loss(2)


ranges = [2, 3, 5, 10, 100]
t_losses = list(map(lambda r: 20*log10(r), ranges))
print(t_losses)





# help(str.lower)
# help(str.upper)

def jitter_string(my_string):

    new_string = ''
    for ix, s in enumerate(my_string):
        if ix % 2 == 0:
            new_string += s.lower()
        else:
            new_string += s.upper()

    return new_string

# Check
jitter_string('Anthropomorphism')





# help(str.join)
# help(str.split)

def master_yoda(text):
    return ' '.join(text.split(' ')[::-1])

# Check
print(master_yoda('I am home'))
print(master_yoda('We are ready'))





def master_yoda(text):
    sp = text.split(' ')[::-1]
    sp[0] = sp[0].capitalize()
    sp[-1] = sp[-1].lower()
    return ' '.join(sp)

# Check
print(master_yoda('I am home'))
print(master_yoda('We are ready'))





class MyClass:
        a = 17

        def __init__(self, name, x = 5):
            self.name = name
            self.x = x

        def add_to_x(self, y):
            self.x += y

        def my_name_is(self):
            print(f"{self.name}")

        def x_is(self):
            print(f"{self.x}")





A = MyClass("A")
B = MyClass("nobody",95)
C = MyClass()






A.x_is()
A.add_to_x(7)
A.x_is()
A.my_name_is()

B.x_is()
B.add_to_x(7)
B.x_is()
B.my_name_is()
